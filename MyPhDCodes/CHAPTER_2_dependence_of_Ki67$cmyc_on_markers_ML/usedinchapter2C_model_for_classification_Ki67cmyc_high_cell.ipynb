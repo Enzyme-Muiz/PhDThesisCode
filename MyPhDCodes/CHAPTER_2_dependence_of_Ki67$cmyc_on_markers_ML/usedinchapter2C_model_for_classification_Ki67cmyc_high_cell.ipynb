{
 "cells": [
  {
   "cell_type": "markdown",
   "metadata": {},
   "source": [
    "run this notebook with jupyter (anaconda3)"
   ]
  },
  {
   "cell_type": "markdown",
   "metadata": {},
   "source": [
    "### import libraries"
   ]
  },
  {
   "cell_type": "markdown",
   "metadata": {},
   "source": [
    "how to use Mlflow"
   ]
  },
  {
   "cell_type": "code",
   "execution_count": 12,
   "metadata": {},
   "outputs": [],
   "source": [
    "import mlflow"
   ]
  },
  {
   "cell_type": "code",
   "execution_count": 78,
   "metadata": {},
   "outputs": [],
   "source": [
    "import xgboost as xgb\n",
    "from xgboost import XGBClassifier"
   ]
  },
  {
   "cell_type": "markdown",
   "metadata": {},
   "source": [
    "### data processing"
   ]
  },
  {
   "cell_type": "code",
   "execution_count": 2,
   "metadata": {},
   "outputs": [
    {
     "name": "stderr",
     "output_type": "stream",
     "text": [
      "pandas.util.testing is deprecated. Use the functions in the public API at pandas.testing instead.\n"
     ]
    }
   ],
   "source": [
    "from sklearn.preprocessing import StandardScaler, MinMaxScaler, LabelEncoder\n",
    "from sklearn.tree import DecisionTreeRegressor\n",
    "from sklearn.linear_model import Lasso, LinearRegression\n",
    "from sklearn.metrics import mean_squared_error, r2_score, mean_absolute_error, mean_absolute_percentage_error, classification_report, confusion_matrix\n",
    "from sklearn.model_selection import train_test_split\n",
    "from sklearn.ensemble import RandomForestClassifier\n",
    "from sklearn.model_selection import GridSearchCV\n",
    "from sklearn.neighbors import KNeighborsClassifier\n",
    "\n",
    "import pandas as pd\n",
    "import seaborn as sns\n",
    "import matplotlib.pyplot as plt \n",
    "import numpy as np\n",
    "import tensorflow as tf\n",
    "import pickle\n",
    "\n",
    "from tensorflow.keras.layers import Input, Dense, add\n",
    "from tensorflow.keras.models import Model\n",
    "from tensorflow.keras.utils import to_categorical\n",
    "\n",
    "from imblearn.under_sampling import RandomUnderSampler"
   ]
  },
  {
   "cell_type": "code",
   "execution_count": 3,
   "metadata": {},
   "outputs": [
    {
     "data": {
      "text/plain": [
       "Index(['KLF10', 'CD19', 'CD5', 'MYC', 'CD83', 'IgD', 'NR4A2', 'PPP1R15A',\n",
       "       'JUND', 'FOSB', 'CD21', 'RGS1', 'CD27', 'KLF6', 'CD22', 'TCL1A',\n",
       "       'DDIT3', 'Ki67', 'YPEL5', 'HSPA5', 'TXNIP', 'CD38', 'RGS2', 'EGR1',\n",
       "       'IgM', 'CD69', 'FOS', 'CXCR4', 'Actin', 'labels'],\n",
       "      dtype='object')"
      ]
     },
     "execution_count": 3,
     "metadata": {},
     "output_type": "execute_result"
    }
   ],
   "source": [
    "data = pd.read_csv(\"playR_concattransformed_all.csv\", index_col=0)\n",
    "data.columns"
   ]
  },
  {
   "cell_type": "code",
   "execution_count": 4,
   "metadata": {},
   "outputs": [],
   "source": [
    "y_of_model = \"labels\"\n",
    "drop_other_columns = ['MYC','Ki67','KLF10', 'JUND', 'FOSB',  'RGS1',  'KLF6',  'TCL1A', 'PPP1R15A',\n",
    "                      'DDIT3', 'YPEL5', 'HSPA5', 'TXNIP', 'RGS2', 'EGR1','NR4A2',\n",
    "                         'FOS', 'Actin', 'CD83',]\n",
    "#drop_other_columns = ['MYC','Ki67']\n",
    "\n",
    "y = data[y_of_model]\n",
    "data = data.drop(y_of_model, axis = 1)\n",
    "\n",
    "undersampler = RandomUnderSampler(random_state=42)\n",
    "data, y = undersampler.fit_resample(data, y)\n",
    "\n",
    "\n",
    "scaler = MinMaxScaler()\n",
    "data2 = scaler.fit_transform(data)\n",
    "data2 = pd.DataFrame(data2, columns = data.columns)\n",
    "X = data.drop(drop_other_columns, axis = 1)\n",
    "X_train, X_test, y_train, y_test = train_test_split(X, y, test_size=0.5, shuffle = True, random_state=40)"
   ]
  },
  {
   "cell_type": "code",
   "execution_count": 5,
   "metadata": {},
   "outputs": [],
   "source": [
    "with open(\"scaler_for_four_classifications.pkl\", \"wb\") as file:\n",
    "    pickle.dump(scaler, file)"
   ]
  },
  {
   "cell_type": "code",
   "execution_count": 73,
   "metadata": {},
   "outputs": [],
   "source": [
    "number_of_labels = len(list(set(y_train)))\n",
    "label_encoder = LabelEncoder()\n",
    "label_encoder.fit(y_train)\n",
    "y_encoded1 = label_encoder.transform(y_train)\n",
    "y_encoded = to_categorical(y_encoded1)\n",
    "\n",
    "\n",
    "y_encoded_test = label_encoder.transform(y_test)\n",
    "#y_encoded_test = to_categorical(y_encoded_test)"
   ]
  },
  {
   "cell_type": "code",
   "execution_count": 74,
   "metadata": {},
   "outputs": [
    {
     "name": "stdout",
     "output_type": "stream",
     "text": [
      "Ki67+/Cmyc+\n",
      "Ki67+/Cmyc-\n",
      "Ki67-/Cmyc+\n",
      "Ki67-/Cmyc-\n"
     ]
    }
   ],
   "source": [
    "label_codes = label_encoder.classes_\n",
    "for code in label_codes:\n",
    "    print(code)"
   ]
  },
  {
   "cell_type": "markdown",
   "metadata": {},
   "source": [
    "### skip connection neural network"
   ]
  },
  {
   "cell_type": "code",
   "execution_count": 19,
   "metadata": {},
   "outputs": [],
   "source": [
    "from tensorflow.keras.layers import Input, Dense, add\n",
    "\n",
    "def dynamic_resnet(input_layer, num_units, num_blocks):\n",
    "    x = input_layer\n",
    "    x1 = input_layer\n",
    "    for _ in range(num_blocks):\n",
    "        x = Dense(units=num_units, activation='relu')(x)\n",
    "        y = Dense(units=input_layer.shape[1], activation='relu')(x)\n",
    "        x = add([y, x1])\n",
    "        x1 = x\n",
    "    return x1\n",
    "\n",
    "inputs = Input(shape=(X_train.shape[1],))\n",
    "output_first = dynamic_resnet(inputs, num_units=64, num_blocks=10)\n"
   ]
  },
  {
   "cell_type": "code",
   "execution_count": 20,
   "metadata": {},
   "outputs": [],
   "source": [
    "outputs = Dense(units=number_of_labels, activation='sigmoid')(output_first)\n",
    "model = Model(inputs=inputs, outputs=outputs)\n",
    "lr = 0.001\n",
    "optimizer = tf.keras.optimizers.Adam(learning_rate=lr)\n",
    "model.compile(loss='categorical_crossentropy', optimizer= optimizer, metrics=['accuracy'])\n",
    "history = model.fit(X_train, y_encoded, epochs=50, batch_size=100, verbose = 0)"
   ]
  },
  {
   "cell_type": "code",
   "execution_count": 21,
   "metadata": {},
   "outputs": [
    {
     "data": {
      "image/png": "[encoded data removed]",
      "text/plain": [
       "<Figure size 432x288 with 1 Axes>"
      ]
     },
     "metadata": {
      "needs_background": "light"
     },
     "output_type": "display_data"
    }
   ],
   "source": [
    "loss = history.history['loss']\n",
    "\n",
    "# Plot the loss\n",
    "plt.plot(loss)\n",
    "plt.title('Training Loss')\n",
    "plt.xlabel('Epoch')\n",
    "plt.ylabel('Loss')\n",
    "plt.show()"
   ]
  },
  {
   "cell_type": "code",
   "execution_count": 22,
   "metadata": {},
   "outputs": [
    {
     "name": "stdout",
     "output_type": "stream",
     "text": [
      "              precision    recall  f1-score   support\n",
      "\n",
      "        Cmyc       0.84      0.87      0.85       827\n",
      "        Ki67       0.98      0.98      0.98       810\n",
      "   Ki67_Cmyc       0.91      0.92      0.91       848\n",
      "      Others       0.85      0.81      0.83       859\n",
      "\n",
      "    accuracy                           0.89      3344\n",
      "   macro avg       0.89      0.90      0.89      3344\n",
      "weighted avg       0.89      0.89      0.89      3344\n",
      "\n"
     ]
    }
   ],
   "source": [
    "y_pred = model.predict(X_test)\n",
    "y_pred_classes = np.argmax(y_pred, axis=1)\n",
    "class_names = ['Cmyc', 'Ki67', 'Ki67_Cmyc', 'Others']\n",
    "print(classification_report(y_encoded_test, y_pred_classes, target_names=class_names))"
   ]
  },
  {
   "cell_type": "code",
   "execution_count": 23,
   "metadata": {},
   "outputs": [
    {
     "name": "stdout",
     "output_type": "stream",
     "text": [
      "[[718   9  27  73]\n",
      " [  8 797   2   3]\n",
      " [ 21   2 782  43]\n",
      " [106   6  53 694]]\n"
     ]
    }
   ],
   "source": [
    "print(confusion_matrix(y_encoded_test, y_pred_classes))"
   ]
  },
  {
   "cell_type": "code",
   "execution_count": null,
   "metadata": {},
   "outputs": [],
   "source": [
    "model.save(\"skip_connection_model_ki67_cmyc_4_classes.h5\")"
   ]
  },
  {
   "cell_type": "code",
   "execution_count": 10,
   "metadata": {},
   "outputs": [],
   "source": [
    "# inputs = Input(shape=(X_train.shape[1],))\n",
    "\n",
    "# x = Dense(units=64, activation='relu')(inputs)\n",
    "# w = Dense(units=64, activation='relu')(x)\n",
    "# y = Dense(units=X_train.shape[1], activation='relu')(w)\n",
    "# z = add([y, inputs])\n",
    "\n",
    "# w = Dense(units=64, activation='relu')(z)\n",
    "# y = Dense(units=X_train.shape[1], activation='relu')(w)\n",
    "# z = add([y, z])\n",
    "\n",
    "# outputs = Dense(units=number_of_labels, activation='sigmoid')(z)\n",
    "# model = Model(inputs=inputs, outputs=outputs)\n",
    "# lr = 0.001\n",
    "# optimizer = tf.keras.optimizers.Adam(learning_rate=lr)\n",
    "# model.compile(loss='categorical_crossentropy', optimizer= optimizer, metrics=['accuracy'])\n",
    "# history = model.fit(X_train, y_encoded, epochs=50, batch_size=100, verbose = 0)"
   ]
  },
  {
   "cell_type": "code",
   "execution_count": 30,
   "metadata": {},
   "outputs": [],
   "source": [
    "# loss = history.history['loss']\n",
    "\n",
    "# # Plot the loss\n",
    "# plt.plot(loss)\n",
    "# plt.title('Training Loss')\n",
    "# plt.xlabel('Epoch')\n",
    "# plt.ylabel('Loss')\n",
    "# plt.show()"
   ]
  },
  {
   "cell_type": "code",
   "execution_count": 31,
   "metadata": {},
   "outputs": [],
   "source": [
    "# y_pred = model.predict(X_test)\n",
    "# y_pred_classes = np.argmax(y_pred, axis=1)\n",
    "# class_names = ['Cmyc', 'Ki67', 'Ki67_Cmyc', 'Others']\n",
    "# print(classification_report(y_encoded_test, y_pred_classes, target_names=class_names))\n",
    "# print(confusion_matrix(y_encoded_test, y_pred_classes))"
   ]
  },
  {
   "cell_type": "markdown",
   "metadata": {},
   "source": [
    "### random forest"
   ]
  },
  {
   "cell_type": "code",
   "execution_count": 8,
   "metadata": {},
   "outputs": [],
   "source": [
    "X_train = X_train.reset_index(drop=True)\n",
    "np_x_train = np.array(X_train)"
   ]
  },
  {
   "cell_type": "code",
   "execution_count": 9,
   "metadata": {},
   "outputs": [],
   "source": [
    "param_grid = {\n",
    "    'n_estimators': [10, 20, 30, 40, 50, 60],\n",
    "    'max_depth': [10, 15, 20, 25],\n",
    "    'min_samples_split': [5, 10, 15],\n",
    "    'min_samples_leaf': [1, 2, 4, 6]\n",
    "}"
   ]
  },
  {
   "cell_type": "code",
   "execution_count": 10,
   "metadata": {},
   "outputs": [],
   "source": [
    "#mlflow.set_tracking_uri(\"sqlite:///mlruns.db\")"
   ]
  },
  {
   "cell_type": "code",
   "execution_count": 13,
   "metadata": {},
   "outputs": [
    {
     "name": "stderr",
     "output_type": "stream",
     "text": [
      "2023/10/28 11:57:27 WARNING mlflow.sklearn.utils: log_loss failed. The metric training_log_loss will not be recorded. Metric error: Found array with dim 3. Estimator expected <= 2.\n",
      "2023/10/28 11:57:27 WARNING mlflow.sklearn.utils: roc_auc_score failed. The metric training_roc_auc_score will not be recorded. Metric error: Found array with dim 3. Estimator expected <= 2.\n",
      "2023/10/28 11:57:27 WARNING mlflow.sklearn.utils: Failed to autolog artifacts for GridSearchCV. Logging error: unhashable type: 'numpy.ndarray'\n",
      "2023/10/28 11:57:45 INFO mlflow.sklearn.utils: Logging the 5 best runs, 283 runs will be omitted.\n"
     ]
    }
   ],
   "source": [
    "rf = RandomForestClassifier()\n",
    "\n",
    "# Create GridSearchCV object with autologging enabled\n",
    "with mlflow.start_run() as run:\n",
    "    grid_search = GridSearchCV(estimator=rf, param_grid=param_grid, cv=3)\n",
    "    \n",
    "    # Enable autologging\n",
    "    mlflow.sklearn.autolog()\n",
    "    \n",
    "    # Fit the model and perform grid search\n",
    "    grid_search.fit(np_x_train, y_encoded)\n",
    "    \n",
    "    # Log best parameters and score\n",
    "    mlflow.log_params(grid_search.best_params_)\n",
    "    mlflow.log_metrics({'best_score': grid_search.best_score_})\n",
    "    mlflow.log_metrics({'best_score': grid_search.best_score_})\n",
    "    #mlflow.log_artifacts(\"mlflow_runs_artefacts\")\n",
    "    mlflow.sklearn.log_model(rf, \"model\")"
   ]
  },
  {
   "cell_type": "markdown",
   "metadata": {},
   "source": [
    "######  feature importance"
   ]
  },
  {
   "cell_type": "code",
   "execution_count": 21,
   "metadata": {},
   "outputs": [
    {
     "name": "stderr",
     "output_type": "stream",
     "text": [
      "2023/10/14 16:42:37 INFO mlflow.utils.autologging_utils: Created MLflow autologging run with ID 'db6d23bb9eeb4cff819e0b9318ae5e90', which will track hyperparameters, performance metrics, model artifacts, and lineage information for the current sklearn workflow\n",
      "2023/10/14 16:50:27 WARNING mlflow.sklearn.utils: log_loss failed. The metric training_log_loss will not be recorded. Metric error: Found array with dim 3. Estimator expected <= 2.\n",
      "2023/10/14 16:50:27 WARNING mlflow.sklearn.utils: roc_auc_score failed. The metric training_roc_auc_score will not be recorded. Metric error: Found array with dim 3. Estimator expected <= 2.\n",
      "2023/10/14 16:50:27 WARNING mlflow.sklearn.utils: Failed to autolog artifacts for GridSearchCV. Logging error: unhashable type: 'numpy.ndarray'\n",
      "2023/10/14 16:50:38 INFO mlflow.sklearn.utils: Logging the 5 best runs, 283 runs will be omitted.\n"
     ]
    },
    {
     "data": {
      "text/plain": [
       "GridSearchCV(cv=5, estimator=RandomForestClassifier(),\n",
       "             param_grid={'max_depth': [10, 15, 20, 25],\n",
       "                         'min_samples_leaf': [1, 2, 4, 6],\n",
       "                         'min_samples_split': [5, 10, 15],\n",
       "                         'n_estimators': [10, 20, 30, 40, 50, 60]})"
      ]
     },
     "execution_count": 21,
     "metadata": {},
     "output_type": "execute_result"
    }
   ],
   "source": [
    "\n",
    "rf = RandomForestClassifier()\n",
    "\n",
    "# Perform Grid Search Cross-Validation\n",
    "grid_search = GridSearchCV(rf, param_grid=param_grid, cv=5)\n",
    "grid_search.fit(X_train, y_encoded)\n"
   ]
  },
  {
   "cell_type": "code",
   "execution_count": 62,
   "metadata": {},
   "outputs": [
    {
     "name": "stdout",
     "output_type": "stream",
     "text": [
      "Best Hyperparameters:  {'max_depth': 25, 'min_samples_leaf': 1, 'min_samples_split': 5, 'n_estimators': 50}\n",
      "Best Score:  0.8762001755078052\n"
     ]
    }
   ],
   "source": [
    "# Print the best hyperparameters and corresponding score\n",
    "print(\"Best Hyperparameters: \", grid_search.best_params_)\n",
    "print(\"Best Score: \", grid_search.best_score_)"
   ]
  },
  {
   "cell_type": "code",
   "execution_count": 63,
   "metadata": {},
   "outputs": [],
   "source": [
    "best_model = grid_search.best_estimator_\n",
    "feature_importances = best_model.feature_importances_\n",
    "feature_names = X_train.columns"
   ]
  },
  {
   "cell_type": "code",
   "execution_count": 64,
   "metadata": {},
   "outputs": [
    {
     "name": "stdout",
     "output_type": "stream",
     "text": [
      "              precision    recall  f1-score   support\n",
      "\n",
      "           0       0.77      0.92      0.84       827\n",
      "           1       0.99      0.97      0.98       810\n",
      "           2       0.95      0.87      0.91       848\n",
      "           3       0.87      0.80      0.83       859\n",
      "\n",
      "    accuracy                           0.89      3344\n",
      "   macro avg       0.89      0.89      0.89      3344\n",
      "weighted avg       0.89      0.89      0.89      3344\n",
      "\n"
     ]
    }
   ],
   "source": [
    "y_pred = best_model.predict(X_test)\n",
    "y_pred_classes = np.argmax(y_pred, axis=1)\n",
    "print(classification_report(y_encoded_test, y_pred_classes))"
   ]
  },
  {
   "cell_type": "code",
   "execution_count": 65,
   "metadata": {},
   "outputs": [
    {
     "data": {
      "image/png": "[encoded data removed]",
      "text/plain": [
       "<Figure size 720x432 with 1 Axes>"
      ]
     },
     "metadata": {
      "needs_background": "light"
     },
     "output_type": "display_data"
    }
   ],
   "source": [
    "feature_df = pd.DataFrame({'Feature': feature_names, 'Importance': feature_importances})\n",
    "feature_df = feature_df.sort_values(by='Importance', ascending=False)\n",
    "plt.figure(figsize=(10, 6))\n",
    "sns.barplot(x='Importance', y='Feature', data=feature_df)\n",
    "plt.title('Feature Importances for Ki67 Expression in CLL Cells')\n",
    "plt.xlabel('Importance')\n",
    "plt.ylabel('Markers')\n",
    "plt.show()"
   ]
  },
  {
   "cell_type": "code",
   "execution_count": 66,
   "metadata": {},
   "outputs": [],
   "source": [
    "file_path = 'best_random_forest_model.pkl'\n",
    "with open(file_path, 'wb') as file:\n",
    "    pickle.dump(best_model, file)"
   ]
  },
  {
   "cell_type": "code",
   "execution_count": null,
   "metadata": {},
   "outputs": [],
   "source": [
    "# creates database\n",
    "# import sqlite3\n",
    "# sqlite3.connect('mlruns')"
   ]
  },
  {
   "cell_type": "code",
   "execution_count": 72,
   "metadata": {},
   "outputs": [
    {
     "data": {
      "text/plain": [
       "array([[0., 0., 1., 0.],\n",
       "       [0., 0., 0., 1.],\n",
       "       [0., 0., 0., 1.],\n",
       "       ...,\n",
       "       [0., 0., 0., 1.],\n",
       "       [0., 0., 0., 1.],\n",
       "       [0., 0., 1., 0.]], dtype=float32)"
      ]
     },
     "execution_count": 72,
     "metadata": {},
     "output_type": "execute_result"
    }
   ],
   "source": []
  },
  {
   "cell_type": "markdown",
   "metadata": {},
   "source": [
    "### XGBoost"
   ]
  },
  {
   "cell_type": "code",
   "execution_count": 79,
   "metadata": {},
   "outputs": [],
   "source": [
    "model = XGBClassifier(\n",
    "    learning_rate=0.1,\n",
    "    n_estimators=100,  # Number of boosting rounds\n",
    "    max_depth=3,\n",
    "    objective='binary:logistic',  # For classification problems\n",
    "    num_class=4\n",
    ")"
   ]
  },
  {
   "cell_type": "code",
   "execution_count": 80,
   "metadata": {},
   "outputs": [
    {
     "name": "stderr",
     "output_type": "stream",
     "text": [
      "The use of label encoder in XGBClassifier is deprecated and will be removed in a future release. To remove this warning, do the following: 1) Pass option use_label_encoder=False when constructing XGBClassifier object; and 2) Encode your labels (y) as integers starting with 0, i.e. 0, 1, 2, ..., [num_class - 1].\n"
     ]
    },
    {
     "name": "stdout",
     "output_type": "stream",
     "text": [
      "[11:39:57] WARNING: C:/Users/Administrator/workspace/xgboost-win64_release_1.4.0/src/learner.cc:1095: Starting in XGBoost 1.3.0, the default evaluation metric used with the objective 'multi:softprob' was changed from 'merror' to 'mlogloss'. Explicitly set eval_metric if you'd like to restore the old behavior.\n"
     ]
    },
    {
     "data": {
      "text/plain": [
       "XGBClassifier(base_score=0.5, booster='gbtree', colsample_bylevel=1,\n",
       "              colsample_bynode=1, colsample_bytree=1, gamma=0, gpu_id=-1,\n",
       "              importance_type='gain', interaction_constraints='',\n",
       "              learning_rate=0.1, max_delta_step=0, max_depth=3,\n",
       "              min_child_weight=1, missing=nan, monotone_constraints='()',\n",
       "              n_estimators=100, n_jobs=4, num_class=4, num_parallel_tree=1,\n",
       "              objective='multi:softprob', random_state=0, reg_alpha=0,\n",
       "              reg_lambda=1, scale_pos_weight=None, subsample=1,\n",
       "              tree_method='exact', validate_parameters=1, verbosity=None)"
      ]
     },
     "execution_count": 80,
     "metadata": {},
     "output_type": "execute_result"
    }
   ],
   "source": [
    "model.fit(X_train, y_encoded1)"
   ]
  },
  {
   "cell_type": "code",
   "execution_count": 81,
   "metadata": {},
   "outputs": [
    {
     "name": "stdout",
     "output_type": "stream",
     "text": [
      "              precision    recall  f1-score   support\n",
      "\n",
      "        Cmyc       0.85      0.89      0.87       827\n",
      "        Ki67       0.98      0.98      0.98       810\n",
      "   Ki67_Cmyc       0.91      0.90      0.91       848\n",
      "      Others       0.85      0.83      0.84       859\n",
      "\n",
      "    accuracy                           0.90      3344\n",
      "   macro avg       0.90      0.90      0.90      3344\n",
      "weighted avg       0.90      0.90      0.90      3344\n",
      "\n"
     ]
    }
   ],
   "source": [
    "y_pred = model.predict(X_test)\n",
    "\n",
    "print(classification_report(y_encoded_test, y_pred, target_names=class_names))"
   ]
  },
  {
   "cell_type": "markdown",
   "metadata": {},
   "source": [
    "### Using KNN"
   ]
  },
  {
   "cell_type": "code",
   "execution_count": 47,
   "metadata": {},
   "outputs": [],
   "source": [
    "k = 3\n",
    "knn = KNeighborsClassifier(n_neighbors=k)"
   ]
  },
  {
   "cell_type": "code",
   "execution_count": 48,
   "metadata": {},
   "outputs": [
    {
     "name": "stderr",
     "output_type": "stream",
     "text": [
      "2023/10/28 20:10:33 INFO mlflow.utils.autologging_utils: Created MLflow autologging run with ID '51552dd4f3eb405c9876a2e3605e2ade', which will track hyperparameters, performance metrics, model artifacts, and lineage information for the current sklearn workflow\n"
     ]
    },
    {
     "data": {
      "text/plain": [
       "KNeighborsClassifier(n_neighbors=3)"
      ]
     },
     "execution_count": 48,
     "metadata": {},
     "output_type": "execute_result"
    }
   ],
   "source": [
    "knn.fit(X_train, y_encoded1)"
   ]
  },
  {
   "cell_type": "code",
   "execution_count": 50,
   "metadata": {},
   "outputs": [],
   "source": [
    "class_names = ['Cmyc', 'Ki67', 'Ki67_Cmyc', 'Others']"
   ]
  },
  {
   "cell_type": "code",
   "execution_count": 51,
   "metadata": {},
   "outputs": [
    {
     "name": "stdout",
     "output_type": "stream",
     "text": [
      "              precision    recall  f1-score   support\n",
      "\n",
      "        Cmyc       0.84      0.86      0.85       827\n",
      "        Ki67       0.97      0.98      0.98       810\n",
      "   Ki67_Cmyc       0.92      0.89      0.90       848\n",
      "      Others       0.82      0.82      0.82       859\n",
      "\n",
      "    accuracy                           0.89      3344\n",
      "   macro avg       0.89      0.89      0.89      3344\n",
      "weighted avg       0.89      0.89      0.89      3344\n",
      "\n"
     ]
    }
   ],
   "source": [
    "y_pred = knn.predict(X_test)\n",
    "\n",
    "print(classification_report(y_encoded_test, y_pred, target_names=class_names))"
   ]
  },
  {
   "cell_type": "markdown",
   "metadata": {},
   "source": [
    "### SHAP experiment  \n",
    "### for the xgboost model"
   ]
  },
  {
   "cell_type": "code",
   "execution_count": 1,
   "metadata": {},
   "outputs": [
    {
     "name": "stderr",
     "output_type": "stream",
     "text": [
      "Using `tqdm.autonotebook.tqdm` in notebook mode. Use `tqdm.tqdm` instead to force console mode (e.g. in jupyter console)\n"
     ]
    }
   ],
   "source": [
    "import shap"
   ]
  },
  {
   "cell_type": "code",
   "execution_count": 82,
   "metadata": {},
   "outputs": [],
   "source": [
    "explainer = shap.TreeExplainer(model)\n",
    "shap_values = explainer.shap_values(X_test)"
   ]
  },
  {
   "cell_type": "code",
   "execution_count": 83,
   "metadata": {},
   "outputs": [
    {
     "data": {
      "image/png": "[encoded data removed]",
      "text/plain": [
       "<Figure size 576x396 with 1 Axes>"
      ]
     },
     "metadata": {
      "needs_background": "light"
     },
     "output_type": "display_data"
    }
   ],
   "source": [
    "shap.summary_plot(shap_values, X_test)"
   ]
  },
  {
   "cell_type": "code",
   "execution_count": 84,
   "metadata": {},
   "outputs": [],
   "source": [
    "# Ki67+/Cmyc+\n",
    "# Ki67+/Cmyc-\n",
    "# Ki67-/Cmyc+\n",
    "# Ki67-/Cmyc-"
   ]
  },
  {
   "cell_type": "code",
   "execution_count": 85,
   "metadata": {},
   "outputs": [
    {
     "data": {
      "image/png": "[encoded data removed]",
      "text/plain": [
       "<Figure size 576x396 with 2 Axes>"
      ]
     },
     "metadata": {
      "needs_background": "light"
     },
     "output_type": "display_data"
    }
   ],
   "source": [
    "shap.summary_plot(shap_values[0], X_test)"
   ]
  }
 ],
 "metadata": {
  "kernelspec": {
   "display_name": "Python 3 (ipykernel)",
   "language": "python",
   "name": "python3"
  },
  "language_info": {
   "codemirror_mode": {
    "name": "ipython",
    "version": 3
   },
   "file_extension": ".py",
   "mimetype": "text/x-python",
   "name": "python",
   "nbconvert_exporter": "python",
   "pygments_lexer": "ipython3",
   "version": "3.12.7"
  }
 },
 "nbformat": 4,
 "nbformat_minor": 4
}
