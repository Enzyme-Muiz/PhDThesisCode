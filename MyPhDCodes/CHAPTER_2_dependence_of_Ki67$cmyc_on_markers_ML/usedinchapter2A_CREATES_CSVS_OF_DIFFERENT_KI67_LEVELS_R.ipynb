{
 "cells": [
  {
   "cell_type": "code",
   "execution_count": 2,
   "metadata": {
    "vscode": {
     "languageId": "r"
    }
   },
   "outputs": [
    {
     "name": "stderr",
     "output_type": "stream",
     "text": [
      "Installing package into 'C:/Users/rajim/Documents/R/win-library/3.6'\n",
      "(as 'lib' is unspecified)\n",
      "Warning message:\n",
      "\"unable to access index for repository https://cran.r-project.org/bin/windows/contrib/3.6:\n",
      "  cannot open URL 'https://cran.r-project.org/bin/windows/contrib/3.6/PACKAGES'\"installing the source package 'IRkernel'\n",
      "\n"
     ]
    }
   ],
   "source": [
    "install.packages('IRkernel')\n",
    "IRkernel::installspec() "
   ]
  },
  {
   "cell_type": "code",
   "execution_count": 1,
   "metadata": {
    "vscode": {
     "languageId": "r"
    }
   },
   "outputs": [
    {
     "name": "stderr",
     "output_type": "stream",
     "text": [
      "Installing package into 'C:/Users/rajim/Documents/R/win-library/3.6'\n",
      "(as 'lib' is unspecified)\n",
      "Warning message:\n",
      "\"package 'MASS' is not available (for R version 3.6.1)\"Warning message:\n",
      "\"unable to access index for repository https://cran.r-project.org/bin/windows/contrib/3.6:\n",
      "  cannot open URL 'https://cran.r-project.org/bin/windows/contrib/3.6/PACKAGES'\""
     ]
    }
   ],
   "source": [
    "install.packages(\"MASS\")"
   ]
  },
  {
   "cell_type": "code",
   "execution_count": 2,
   "metadata": {
    "dotnet_interactive": {
     "language": "csharp"
    },
    "polyglot_notebook": {
     "kernelName": "csharp"
    },
    "vscode": {
     "languageId": "r"
    }
   },
   "outputs": [
    {
     "ename": "Error",
     "evalue": "(1,1): error CS0103: The name 'source' does not exist in the current context",
     "output_type": "error",
     "traceback": [
      "(1,1): error CS0103: The name 'source' does not exist in the current context"
     ]
    }
   ],
   "source": [
    "source(\"../UsedSourceCodes/mass_cytometry_functions.R\")"
   ]
  },
  {
   "cell_type": "code",
   "execution_count": null,
   "metadata": {
    "vscode": {
     "languageId": "r"
    }
   },
   "outputs": [],
   "source": [
    "needed_antibody1<- c('141Pr_INS14','142Nd_CD19','143Nd_CD5','144Nd_INS17','145Nd_INS5','146Nd_IgD',\n",
    "                    '147Sm_INS19','149Sm_INS18','150Nd_INS20','151Eu_INS16','152Sm_CD21',\n",
    "                    '153Eu_INS7','155Gd_CD27','158Gd_INS24','159Tb_CD22','160Gd_INS3','161Dy_INS26',\n",
    "                    '162Dy_Ki67','163Dy_INS8','164Dy_INS25','165Ho_INS11','167Er_CD38','168Er_INS13',\n",
    "                    '169Tm_INS4','172Yb_IgM','173Yb_INS6','174Yb_INS27','175Lu_CXCR4','176Yb_INS1')\n",
    "needed_antibody1_rename<- c('KLF10','CD19','CD5','MYC','CD83','IgD','NR4A2','PPP1R15A','JUND','FOSB',\n",
    "                            'CD21','RGS1','CD27','KLF6','CD22','TCL1A','DDIT3','Ki67','YPEL5','HSPA5',\n",
    "                            'TXNIP','CD38','RGS2','EGR1','IgM','CD69','FOS','CXCR4','Actin')"
   ]
  },
  {
   "cell_type": "code",
   "execution_count": null,
   "metadata": {
    "vscode": {
     "languageId": "r"
    }
   },
   "outputs": [],
   "source": [
    "number_of_cell = NULL\n",
    "concat_result <- generate_concat(c(\"c\"), \n",
    "                \"../Data/20 CLL/\",\n",
    "                number_of_cell,\n",
    "                column_needed = needed_antibody1,\n",
    "                rename_columns_needed = needed_antibody1_rename,\n",
    "                \"yes\",\n",
    "                \"playR_concattransformed_all\"\n",
    "               )"
   ]
  },
  {
   "cell_type": "code",
   "execution_count": null,
   "metadata": {
    "vscode": {
     "languageId": "r"
    }
   },
   "outputs": [],
   "source": [
    "df<- fcs_to_dataframe(\"playR_concattransformed_all.fcs\",\n",
    "                  needed_antibody1_rename,\n",
    "                  FALSE\n",
    "                )\n",
    "\n",
    "\n",
    "\n",
    "####fcs_to_dataframe is not yet transforming"
   ]
  },
  {
   "cell_type": "code",
   "execution_count": null,
   "metadata": {
    "vscode": {
     "languageId": "r"
    }
   },
   "outputs": [],
   "source": [
    "#write.csv(df, \"playR_concattransformed_all.csv\")"
   ]
  },
  {
   "cell_type": "code",
   "execution_count": null,
   "metadata": {
    "vscode": {
     "languageId": "r"
    }
   },
   "outputs": [],
   "source": [
    "set.seed(45)\n",
    "fSOM <- FlowSOM('playR_concattransformed_all.fcs',\n",
    "compensate = FALSE, transform = FALSE,\n",
    "scale = FALSE,\n",
    "colsToUse = c(1:29), xdim = 10, ydim = 10,\n",
    "nClus = 20)"
   ]
  },
  {
   "cell_type": "code",
   "execution_count": null,
   "metadata": {
    "vscode": {
     "languageId": "r"
    }
   },
   "outputs": [],
   "source": [
    "results<- FlowSOM::MetaclusterMFIs(fsom = fSOM)\n",
    "plot3<- pheatmap::pheatmap(t(results),  \n",
    "                           border_color = \"black\", \n",
    "                           scale=\"row\",\n",
    "                           fontsize=16, \n",
    "                           fontface= \"bold\",\n",
    "                           \n",
    "                   #annotation_row = rownames(average),\n",
    "                   #treeheight_row = 0,\n",
    "                   treeheight_col = 0,\n",
    "                   #cutree_rows = 2,\n",
    "                    #show_colnames = F,\n",
    "                    #show_rownames = F,\n",
    "                   #kmeans_k= 4,\n",
    "                    #color = c(\"blue\", \"yellow\",\"red\"),\n",
    "                    #breaks = c(-4, -0.5, 1, 4), \n",
    "                    main = \"Cluster Analysis of Cells from\\nall Samples Reveals Distinct Populations \\nin FlowSOM Heatmap\"\n",
    "                  )"
   ]
  },
  {
   "cell_type": "code",
   "execution_count": null,
   "metadata": {
    "vscode": {
     "languageId": "r"
    }
   },
   "outputs": [],
   "source": [
    "###a function that will generate a csv file with a new column containing label that will be obtained by dictionary \n"
   ]
  },
  {
   "cell_type": "code",
   "execution_count": null,
   "metadata": {
    "vscode": {
     "languageId": "r"
    }
   },
   "outputs": [],
   "source": [
    "#changes clusters to metaclusters\n",
    "tobeindexed<- fSOM[[1]]$map$mapping\n",
    "yyy<- fSOM[[2]]\n",
    "attributes(yyy)<- NULL\n",
    "metaclusters_of_all_cell<- yyy[tobeindexed[, 1]]"
   ]
  },
  {
   "cell_type": "code",
   "execution_count": null,
   "metadata": {
    "vscode": {
     "languageId": "r"
    }
   },
   "outputs": [],
   "source": [
    "changes_meta_to_custom<- function(value){\n",
    "my_dict<- list(\n",
    "\"Ki67+/Cmyc+\" = c(20),\n",
    "\"Ki67-/Cmyc+\" = c(11),\n",
    "\"Ki67+/Cmyc-\" = c(16),\n",
    "\"Ki67-/Cmyc-\" = c(1,2,3,4,5,6,7,8,9,10,12,13,14,15,17,18,19)\n",
    ")\n",
    "\n",
    "value <- value\n",
    "keys <- names(my_dict)[sapply(my_dict, function(x) any(x == value))]\n",
    "return(keys)\n",
    "}\n",
    "                              \n",
    "result <- lapply(metaclusters_of_all_cell, FUN = changes_meta_to_custom)\n",
    "final_labels<- unlist(result)\n",
    "                              \n",
    "df$labels<- final_labels\n",
    "write.csv(df, \"playR_concattransformed_all.csv\")"
   ]
  },
  {
   "cell_type": "code",
   "execution_count": null,
   "metadata": {
    "vscode": {
     "languageId": "r"
    }
   },
   "outputs": [],
   "source": [
    "df<- read.csv(\"playR_concattransformed_all.csv\")"
   ]
  },
  {
   "cell_type": "code",
   "execution_count": null,
   "metadata": {
    "vscode": {
     "languageId": "r"
    }
   },
   "outputs": [],
   "source": [
    "labels <- df$labels"
   ]
  },
  {
   "cell_type": "code",
   "execution_count": null,
   "metadata": {
    "vscode": {
     "languageId": "r"
    }
   },
   "outputs": [],
   "source": [
    "data<- labels\n",
    "\n",
    "# Calculate percentage table\n",
    "table_data <- prop.table(table(data)) * 100\n",
    "\n",
    "# Create a data frame from the table data\n",
    "df <- data.frame(cell_types = names(table_data), Percentage = table_data)\n",
    "\n"
   ]
  },
  {
   "cell_type": "code",
   "execution_count": null,
   "metadata": {
    "vscode": {
     "languageId": "r"
    }
   },
   "outputs": [],
   "source": [
    "# Generate the bar chart\n",
    "ggplot(df, aes(x = cell_types, y = Percentage.Freq, fill = cell_types)) +\n",
    "  geom_bar(stat = \"identity\") +\n",
    "  geom_text(aes(label = paste0(round(Percentage.Freq, 1), \"%\")), vjust = -0.5) +\n",
    "  labs(x = \"Category\", y = \"Percentage\") +\n",
    "  theme_minimal()+\n",
    "  theme(panel.border = element_rect(color = \"black\", fill = NA, size = 1),\n",
    "       plot.title = element_text(face = \"bold\", hjust = 0.5),\n",
    "               axis.text = element_text(face = \"bold\"),\n",
    "        axis.title = element_text(face = \"bold\"))+\n",
    "  ggtitle(\"Distribution of cell types in CLL\")"
   ]
  },
  {
   "cell_type": "markdown",
   "metadata": {},
   "source": [
    "### convert just one fcs file to csv"
   ]
  },
  {
   "cell_type": "code",
   "execution_count": null,
   "metadata": {
    "vscode": {
     "languageId": "r"
    }
   },
   "outputs": [],
   "source": [
    "needed_antibody2_rename<- c('CD19','CD5','IgD', 'CD21', 'CD27','CD22','CD38','IgM','CD69','CXCR4')\n",
    "needed_antibody2<- c('142Nd_CD19','143Nd_CD5','146Nd_IgD', '152Sm_CD21', '158Gd_CD27',\n",
    "                     '159Tb_CD22','144Nd_CD38','172Yb_IgM','151Eu_CD69','175Lu_CXCR4')"
   ]
  },
  {
   "cell_type": "code",
   "execution_count": null,
   "metadata": {
    "vscode": {
     "languageId": "r"
    }
   },
   "outputs": [],
   "source": [
    "number_of_cell = NULL\n",
    "concat_result <- generate_concat(c(\"Batch_3_12nonanchor1\"), \n",
    "                \"../R4_Batch_effect_Normalization/Data/all_cytonorm_normalized/\",\n",
    "                number_of_cell,\n",
    "                column_needed = needed_antibody2,\n",
    "                rename_columns_needed = needed_antibody2_rename,\n",
    "                \"yes\",\n",
    "                \"testing_123\"\n",
    "               )"
   ]
  },
  {
   "cell_type": "code",
   "execution_count": null,
   "metadata": {
    "vscode": {
     "languageId": "r"
    }
   },
   "outputs": [],
   "source": [
    "df<- fcs_to_dataframe(\"testing_123.fcs\",\n",
    "                  needed_antibody2_rename,\n",
    "                  FALSE\n",
    "                )"
   ]
  },
  {
   "cell_type": "code",
   "execution_count": null,
   "metadata": {
    "vscode": {
     "languageId": "r"
    }
   },
   "outputs": [],
   "source": [
    "write.csv(df, \"testing_123.csv\")"
   ]
  },
  {
   "cell_type": "code",
   "execution_count": null,
   "metadata": {
    "vscode": {
     "languageId": "r"
    }
   },
   "outputs": [],
   "source": []
  },
  {
   "cell_type": "code",
   "execution_count": null,
   "metadata": {
    "vscode": {
     "languageId": "r"
    }
   },
   "outputs": [],
   "source": []
  }
 ],
 "metadata": {
  "kernelspec": {
   "display_name": "R",
   "language": "R",
   "name": "ir"
  },
  "language_info": {
   "codemirror_mode": "r",
   "file_extension": ".r",
   "mimetype": "text/x-r-source",
   "name": "R",
   "pygments_lexer": "r",
   "version": "3.6.1"
  },
  "polyglot_notebook": {
   "kernelInfo": {
    "defaultKernelName": "csharp",
    "items": [
     {
      "aliases": [],
      "name": "csharp"
     }
    ]
   }
  }
 },
 "nbformat": 4,
 "nbformat_minor": 4
}
