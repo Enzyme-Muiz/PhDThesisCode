{
 "cells": [
  {
   "cell_type": "code",
   "execution_count": 27,
   "id": "d97991f4-41c9-4039-a0a3-a1fa9a61f6d0",
   "metadata": {},
   "outputs": [],
   "source": [
    "import pandas as pd\n",
    "import numpy as np\n",
    "from sklearn.model_selection import train_test_split\n",
    "from sklearn.preprocessing import StandardScaler, LabelEncoder\n",
    "from sklearn.neighbors import KNeighborsClassifier\n",
    "from sklearn.metrics import accuracy_score, classification_report"
   ]
  },
  {
   "cell_type": "code",
   "execution_count": null,
   "id": "068f8827-fdc6-4ad9-8226-efaac2709d50",
   "metadata": {},
   "outputs": [],
   "source": []
  },
  {
   "cell_type": "code",
   "execution_count": 17,
   "id": "9903d29c-b56e-42fd-af91-867074af5f25",
   "metadata": {},
   "outputs": [],
   "source": [
    "label = [\n",
    "    \"M\", \"UM\", \"UM\", \"UM\", \"M\", \"M\", \"UM\", \"M\", \"M\", \"UM\",\n",
    "    \"M\", \"M\", \"M\", \"M\", \"UM\", \"UM\", \"UM\", \"UM\", \"UM\", \"M\",\n",
    "    \"UM\", \"M\", \"UM\", \"M\", \"M\", \"M\", \"UM\", \"UM\", \"M\", \"M\",\n",
    "    None, None, None, None, None, None, None, None, None, None, None,\n",
    "    \"UM\", \"UM\", \"UM\", \"UM\", \"M\", \"M\", \"M\", \"M\", \"UM\", \"M\"]"
   ]
  },
  {
   "cell_type": "code",
   "execution_count": 19,
   "id": "f4fe3abc-fab5-40a5-b1e1-16b528eb69cd",
   "metadata": {},
   "outputs": [],
   "source": [
    "cluster_proportion_cll = pd.read_csv(\"../../data/clusters_proportions.csv\", index_col = 0)"
   ]
  },
  {
   "cell_type": "code",
   "execution_count": 21,
   "id": "e3a8bb1d-c45d-4d96-990d-d73c58d79547",
   "metadata": {},
   "outputs": [],
   "source": [
    "cluster_proportion_cll[\"label\"] = label"
   ]
  },
  {
   "cell_type": "code",
   "execution_count": 29,
   "id": "5161ab7b-1ce0-40a3-b609-a6ef5166d2a1",
   "metadata": {},
   "outputs": [],
   "source": [
    "df = cluster_proportion_cll[cluster_proportion_cll['label'].isin([\"UM\", \"M\"])]"
   ]
  },
  {
   "cell_type": "code",
   "execution_count": null,
   "id": "838b2608-257d-4dc2-a81c-dcaa2cfcd8e5",
   "metadata": {},
   "outputs": [],
   "source": []
  },
  {
   "cell_type": "code",
   "execution_count": null,
   "id": "7228b131-5782-4616-be6a-7851be0a62ef",
   "metadata": {},
   "outputs": [],
   "source": []
  },
  {
   "cell_type": "code",
   "execution_count": 41,
   "id": "0f98f3ae-7789-4ac7-b2e9-a5116bcbff7f",
   "metadata": {},
   "outputs": [
    {
     "name": "stdout",
     "output_type": "stream",
     "text": [
      "Accuracy: 0.6250\n",
      "              precision    recall  f1-score   support\n",
      "\n",
      "           M       0.67      0.50      0.57         4\n",
      "          UM       0.60      0.75      0.67         4\n",
      "\n",
      "    accuracy                           0.62         8\n",
      "   macro avg       0.63      0.62      0.62         8\n",
      "weighted avg       0.63      0.62      0.62         8\n",
      "\n"
     ]
    }
   ],
   "source": [
    "# Assuming df is your DataFrame\n",
    "# Separate features (numeric columns) and target (categorical label)\n",
    "X = df.drop(columns=['label'])  # Drop the label column to get only features\n",
    "y = df['label']  # Target variable\n",
    "\n",
    "# Encode the categorical labels\n",
    "label_encoder = LabelEncoder()\n",
    "y_encoded = label_encoder.fit_transform(y)  # Convert labels to numeric form\n",
    "\n",
    "# Split data into training and testing sets (80% train, 20% test)\n",
    "X_train, X_test, y_train, y_test = train_test_split(X, y_encoded, test_size=0.2, random_state=42, stratify=y_encoded)\n",
    "\n",
    "# Normalize feature data for better KNN performance\n",
    "scaler = StandardScaler()\n",
    "X_train_scaled = scaler.fit_transform(X_train)\n",
    "X_test_scaled = scaler.transform(X_test)\n",
    "\n",
    "# Train KNN classifier\n",
    "knn = KNeighborsClassifier(n_neighbors=3)  # You can tune 'n_neighbors' for better performance\n",
    "knn.fit(X_train_scaled, y_train)\n",
    "\n",
    "# Predict on test data\n",
    "y_pred = knn.predict(X_test_scaled)\n",
    "\n",
    "# Evaluate the model\n",
    "accuracy = accuracy_score(y_test, y_pred)\n",
    "print(f'Accuracy: {accuracy:.4f}')\n",
    "print(classification_report(y_test, y_pred, target_names=label_encoder.classes_))\n"
   ]
  },
  {
   "cell_type": "code",
   "execution_count": null,
   "id": "be616945-ee7b-445b-a1b1-8798b9a9c408",
   "metadata": {},
   "outputs": [],
   "source": []
  },
  {
   "cell_type": "code",
   "execution_count": 45,
   "id": "d283cc01-86fc-4136-b1c0-027fefb605b9",
   "metadata": {},
   "outputs": [
    {
     "name": "stdout",
     "output_type": "stream",
     "text": [
      "Accuracy: 0.7500\n",
      "              precision    recall  f1-score   support\n",
      "\n",
      "           M       0.76      0.76      0.76        21\n",
      "          UM       0.74      0.74      0.74        19\n",
      "\n",
      "    accuracy                           0.75        40\n",
      "   macro avg       0.75      0.75      0.75        40\n",
      "weighted avg       0.75      0.75      0.75        40\n",
      "\n"
     ]
    }
   ],
   "source": [
    "# Assuming df is your DataFrame\n",
    "# Separate features (numeric columns) and target (categorical label)\n",
    "X = df.drop(columns=['label'])  # Drop the label column to get only features\n",
    "y = df['label']  # Target variable\n",
    "\n",
    "# Encode the categorical labels\n",
    "label_encoder = LabelEncoder()\n",
    "y_encoded = label_encoder.fit_transform(y)  # Convert labels to numeric form\n",
    "\n",
    "# Normalize feature data for better KNN performance\n",
    "scaler = StandardScaler()\n",
    "X_scaled = scaler.fit_transform(X)\n",
    "\n",
    "# Train KNN classifier on the entire dataset\n",
    "knn = KNeighborsClassifier(n_neighbors=3)  # You can tune 'n_neighbors' for better performance\n",
    "knn.fit(X_scaled, y_encoded)\n",
    "\n",
    "# Predict on the same dataset\n",
    "y_pred = knn.predict(X_scaled)\n",
    "\n",
    "# Evaluate the model\n",
    "accuracy = accuracy_score(y_encoded, y_pred)\n",
    "print(f'Accuracy: {accuracy:.4f}')\n",
    "print(classification_report(y_encoded, y_pred, target_names=label_encoder.classes_))\n"
   ]
  },
  {
   "cell_type": "code",
   "execution_count": null,
   "id": "21b062d9-7d28-4a3e-a56e-f01e0dbb63ae",
   "metadata": {},
   "outputs": [],
   "source": []
  },
  {
   "cell_type": "code",
   "execution_count": null,
   "id": "58acda4b-4695-4a2c-a1c8-809de60cc13e",
   "metadata": {},
   "outputs": [],
   "source": []
  }
 ],
 "metadata": {
  "kernelspec": {
   "display_name": "Python 3 (ipykernel)",
   "language": "python",
   "name": "python3"
  },
  "language_info": {
   "codemirror_mode": {
    "name": "ipython",
    "version": 3
   },
   "file_extension": ".py",
   "mimetype": "text/x-python",
   "name": "python",
   "nbconvert_exporter": "python",
   "pygments_lexer": "ipython3",
   "version": "3.12.7"
  }
 },
 "nbformat": 4,
 "nbformat_minor": 5
}
