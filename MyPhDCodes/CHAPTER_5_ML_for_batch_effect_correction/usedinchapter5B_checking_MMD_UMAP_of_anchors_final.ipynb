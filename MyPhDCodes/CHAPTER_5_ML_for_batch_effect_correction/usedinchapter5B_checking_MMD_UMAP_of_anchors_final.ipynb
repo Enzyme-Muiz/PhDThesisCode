{
 "cells": [
  {
   "cell_type": "markdown",
   "metadata": {},
   "source": [
    "###plot the four repeated anchor with umap\n",
    "###check the outliers from the umap\n",
    "###use MMD to get a distance matrix with euclidian tree"
   ]
  },
  {
   "cell_type": "code",
   "execution_count": 4,
   "metadata": {
    "vscode": {
     "languageId": "r"
    }
   },
   "outputs": [
    {
     "ename": "ERROR",
     "evalue": "Error in library(i, character.only = TRUE): there is no package called 'MASS'\n",
     "output_type": "error",
     "traceback": [
      "Error in library(i, character.only = TRUE): there is no package called 'MASS'\nTraceback:\n",
      "1. source(\"../UsedSourceCodes/mass_cytometry_functions.R\")",
      "2. withVisible(eval(ei, envir))",
      "3. eval(ei, envir)",
      "4. eval(ei, envir)",
      "5. suppressWarnings(suppressMessages(library(i, character.only = TRUE)))",
      "6. withCallingHandlers(expr, warning = function(w) invokeRestart(\"muffleWarning\"))",
      "7. suppressMessages(library(i, character.only = TRUE))",
      "8. withCallingHandlers(expr, message = function(c) invokeRestart(\"muffleMessage\"))",
      "9. library(i, character.only = TRUE)"
     ]
    }
   ],
   "source": [
    "source(\"../UsedSourceCodes/mass_cytometry_functions.R\")\n",
    "for (i in c(\"MASS\",\"ggplot2\", \"CytoNorm\", \"reshape2\", \"flowCore\", \"cluster\", \"stringr\",\n",
    "           \"Biobase\", \"flowViz\", \"Rtsne\", \"reticulate\", \"R.utils\", \"emdist\", \"FlowSOM\",\"umap\", \"dplyr\",\n",
    "            \"matrixStats\", \"combinat\", \"kernlab\", \"gridExtra\", \"writexl\"\n",
    "           )){\n",
    "     suppressWarnings(suppressMessages(library(i, character.only = TRUE)))\n",
    "     }   "
   ]
  },
  {
   "cell_type": "code",
   "execution_count": 2,
   "metadata": {
    "vscode": {
     "languageId": "r"
    }
   },
   "outputs": [
    {
     "name": "stderr",
     "output_type": "stream",
     "text": [
      "Installing package into 'C:/Users/rajim/Documents/R/win-library/3.6'\n",
      "(as 'lib' is unspecified)\n",
      "\n",
      "Warning message:\n",
      "\"package 'MASS' is not available (for R version 3.6.1)\"\n",
      "Warning message:\n",
      "\"unable to access index for repository https://cran.r-project.org/bin/windows/contrib/3.6:\n",
      "  cannot open URL 'https://cran.r-project.org/bin/windows/contrib/3.6/PACKAGES'\"\n"
     ]
    }
   ],
   "source": [
    "install.packages(\"MASS\")"
   ]
  },
  {
   "cell_type": "code",
   "execution_count": null,
   "metadata": {
    "vscode": {
     "languageId": "r"
    }
   },
   "outputs": [],
   "source": [
    "needed_antibody<- c('141Pr_CD196','142Nd_CD19', '143Nd_CD5',  '144Nd_CD38', '146Nd_IgD','147Sm_CD11c', '148Nd_CD16',\n",
    "                    '149Sm_CCR4', '150Nd_CD43', '151Eu_CD69', '152Sm_CD21', '153Eu_CXCR5', '154Sm_CD62L', '158Gd_CD27',\n",
    "                     '159Tb_CD22', '160Gd_CD14', '163Dy_CXCR3', '164Dy_CD23', '166Er_CD24', '167Er_CCR7',  '171Yb_CD20',\n",
    "                    '172Yb_IgM', '173Yb_HLA-DR', '174Yb_CD49d', '175Lu_CXCR4', '176Yb_CD56')\n",
    "needed_antibody1<- c('141Pr_CD196','142Nd_CD19', '143Nd_CD5',  '144Nd_CD38', '146Nd_IgD','147Sm_CD11c',\n",
    "                   '150Nd_CD43', '151Eu_CD69', '152Sm_CD21', '153Eu_CXCR5', '154Sm_CD62L', '158Gd_CD27',\n",
    "                     '159Tb_CD22', '163Dy_CXCR3', '164Dy_CD23', '166Er_CD24', '167Er_CCR7',  '171Yb_CD20',\n",
    "                    '172Yb_IgM', '173Yb_HLA-DR', '174Yb_CD49d', '175Lu_CXCR4')"
   ]
  },
  {
   "cell_type": "code",
   "execution_count": null,
   "metadata": {
    "vscode": {
     "languageId": "r"
    }
   },
   "outputs": [],
   "source": [
    "batch1 <- \"2nd\" \n",
    "batch2 <- \"6th\"\n",
    "samplenumber = \"3640\"\n",
    "filetocode = read.csv(\".././R3_ML_mut_vs_unmut_scripts/filenametocode.csv\")\n",
    "filetocode <- data.frame(filetocode)\n",
    "rows_with_value <- filetocode[filetocode$name == samplenumber, ]\n",
    "rows_with_value <- rows_with_value$code\n",
    "string_needed1 <- rows_with_value[grep(paste0(\"^Batch_\", substr(batch2, 1, 1)), rows_with_value)]\n",
    "string_needed2 <- rows_with_value[grep(paste0(\"^Batch_\", substr(batch1, 1, 1)), rows_with_value)]\n",
    "\n",
    "\n",
    "\n",
    "path_needed1<- output_path(samplenumber, \"Data/experiment_UMvsM/\", batch1)\n",
    "path_needed2<- output_path(samplenumber, \"Data/experiment_UMvsM/\", batch2)\n",
    "\n",
    "\n",
    "\n",
    "\n",
    "# path_needed1<- \"Data/all_cytonorm_normalized/Batch_1_12nonanchor1.fcs\"\n",
    "# path_needed2<- \"Data/all_cytonorm_normalized/Batch_3_17nonanchor1.fcs\"\n",
    "# path_needed2<- \"Data/all_cytonorm_normalized/Batch_6_19nonanchor1.fcs\"\n",
    "path_needed1<- paste0(\"Data/all_cytonorm_normalized/\", string_needed1)\n",
    "path_needed2<- paste0(\"Data/all_cytonorm_normalized/\", string_needed2)"
   ]
  },
  {
   "cell_type": "code",
   "execution_count": null,
   "metadata": {
    "vscode": {
     "languageId": "r"
    }
   },
   "outputs": [],
   "source": [
    "dataframe_res1<- fcs_to_dataframe(path_needed1, \n",
    "                #needed_antibody,\n",
    "                needed_antibody1,\n",
    "                TRUE)\n",
    "dataframe_res2<- fcs_to_dataframe(path_needed2, \n",
    "                #needed_antibody,\n",
    "                needed_antibody1,\n",
    "                TRUE)"
   ]
  },
  {
   "cell_type": "markdown",
   "metadata": {},
   "source": [
    "<h1>UMAP diagram or TSNE here</h1>"
   ]
  },
  {
   "cell_type": "code",
   "execution_count": null,
   "metadata": {
    "vscode": {
     "languageId": "r"
    }
   },
   "outputs": [],
   "source": [
    "sample_name = samplenumber\n",
    "method = \"\" #\"ML-based technique\"\n",
    "before_or_after = \"before\"\n",
    "with_or_without = \" \"\n",
    "title_name= paste0(\"UMAP of a sample (\", sample_name, \")\", \" from two batches\\n\", before_or_after, \" batch effect correction \\n\", with_or_without ,  method)"
   ]
  },
  {
   "cell_type": "code",
   "execution_count": null,
   "metadata": {
    "vscode": {
     "languageId": "r"
    }
   },
   "outputs": [],
   "source": [
    "batches<- c(batch1, batch2) "
   ]
  },
  {
   "cell_type": "code",
   "execution_count": null,
   "metadata": {
    "vscode": {
     "languageId": "r"
    }
   },
   "outputs": [],
   "source": [
    "number_of_sampled_cell = 1000\n",
    "BBT3<- dataframe_res1[sample(nrow(dataframe_res1), number_of_sampled_cell, replace = T), ]\n",
    "BBT4<- dataframe_res2[sample(nrow(dataframe_res2), number_of_sampled_cell, replace = T), ]\n",
    "full_exprs<- rbind(BBT3, BBT4)"
   ]
  },
  {
   "cell_type": "code",
   "execution_count": null,
   "metadata": {
    "vscode": {
     "languageId": "r"
    }
   },
   "outputs": [],
   "source": [
    "cols<- c(\"#5694ca\",\"#ffdd00\")  #\"#d26400\",\"#800020\",\"#77aaaa\",\"#c78ef4\"\n",
    "colours<-rep(cols,each=number_of_sampled_cell)"
   ]
  },
  {
   "cell_type": "code",
   "execution_count": null,
   "metadata": {
    "vscode": {
     "languageId": "r"
    }
   },
   "outputs": [],
   "source": [
    "gg<- umap(full_exprs)"
   ]
  },
  {
   "cell_type": "code",
   "execution_count": null,
   "metadata": {
    "vscode": {
     "languageId": "r"
    }
   },
   "outputs": [],
   "source": [
    "plot(gg$layout, \n",
    "     #main= \"umap of sampled events\",\n",
    "     xlab=substitute(paste(bold('umap_1'))),\n",
    "     ylab=substitute(paste(bold('umap_2'))), col = colours, pch = 19, cex= 1.5,\n",
    "    main= title_name)\n",
    "legend(x = \"topleft\",         \n",
    "       legend = batches, \n",
    "       fill = cols,          \n",
    "        border = \"black\") \n",
    "box(lwd= 5)\n",
    "grid(nx = NULL, ny = NULL,\n",
    "     lty = 2,      # Grid line type\n",
    "     col = \"gray\", # Grid line color\n",
    "     lwd = 2) "
   ]
  },
  {
   "cell_type": "markdown",
   "metadata": {},
   "source": [
    "<h1>END OF UMAP</h1>"
   ]
  }
 ],
 "metadata": {
  "kernelspec": {
   "display_name": "R",
   "language": "R",
   "name": "ir"
  },
  "language_info": {
   "codemirror_mode": "r",
   "file_extension": ".r",
   "mimetype": "text/x-r-source",
   "name": "R",
   "pygments_lexer": "r",
   "version": "3.6.1"
  }
 },
 "nbformat": 4,
 "nbformat_minor": 2
}
