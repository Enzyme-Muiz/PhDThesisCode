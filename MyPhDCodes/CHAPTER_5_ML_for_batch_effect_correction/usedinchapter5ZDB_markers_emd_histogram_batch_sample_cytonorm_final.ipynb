{
 "cells": [
  {
   "cell_type": "markdown",
   "metadata": {},
   "source": [
    "<h1><b>This notebook is intended to plot markers' histogram for a given mass cytometry sample within a given batch</b></h1>"
   ]
  },
  {
   "cell_type": "code",
   "execution_count": 1,
   "metadata": {
    "vscode": {
     "languageId": "r"
    }
   },
   "outputs": [
    {
     "ename": "ERROR",
     "evalue": "Error in library(i, character.only = TRUE): there is no package called 'MASS'\n",
     "output_type": "error",
     "traceback": [
      "Error in library(i, character.only = TRUE): there is no package called 'MASS'\nTraceback:\n",
      "1. source(\"../UsedSourceCodes/mass_cytometry_functions.R\")",
      "2. withVisible(eval(ei, envir))",
      "3. eval(ei, envir)",
      "4. eval(ei, envir)",
      "5. suppressWarnings(suppressMessages(library(i, character.only = TRUE)))",
      "6. withCallingHandlers(expr, warning = function(w) invokeRestart(\"muffleWarning\"))",
      "7. suppressMessages(library(i, character.only = TRUE))",
      "8. withCallingHandlers(expr, message = function(c) invokeRestart(\"muffleMessage\"))",
      "9. library(i, character.only = TRUE)"
     ]
    }
   ],
   "source": [
    "source(\"../UsedSourceCodes/mass_cytometry_functions.R\")\n",
    "library(caret)\n",
    "library(glue)\n",
    "library(emdist)\n",
    "library(egg)"
   ]
  },
  {
   "cell_type": "code",
   "execution_count": null,
   "metadata": {
    "vscode": {
     "languageId": "r"
    }
   },
   "outputs": [],
   "source": [
    "options(repr.plot.width=12, repr.plot.height=10)"
   ]
  },
  {
   "cell_type": "code",
   "execution_count": null,
   "metadata": {
    "vscode": {
     "languageId": "r"
    }
   },
   "outputs": [],
   "source": [
    "needed_antibody<- c('141Pr_CD196','142Nd_CD19', '143Nd_CD5',  '144Nd_CD38', '146Nd_IgD','147Sm_CD11c', '148Nd_CD16',\n",
    "                    '149Sm_CCR4', '150Nd_CD43', '151Eu_CD69', '152Sm_CD21', '153Eu_CXCR5', '154Sm_CD62L', '158Gd_CD27',\n",
    "                     '159Tb_CD22', '160Gd_CD14', '163Dy_CXCR3', '164Dy_CD23', '166Er_CD24', '167Er_CCR7',  '171Yb_CD20',\n",
    "                    '172Yb_IgM', '173Yb_HLA-DR', '174Yb_CD49d', '175Lu_CXCR4', '176Yb_CD56')\n",
    "needed_antibody1<- c('141Pr_CD196','142Nd_CD19', '143Nd_CD5',  '144Nd_CD38', '146Nd_IgD','147Sm_CD11c',\n",
    "                   '150Nd_CD43', '151Eu_CD69', '152Sm_CD21', '153Eu_CXCR5', '154Sm_CD62L', '158Gd_CD27',\n",
    "                     '159Tb_CD22', '163Dy_CXCR3', '164Dy_CD23', '166Er_CD24', '167Er_CCR7',  '171Yb_CD20',\n",
    "                    '172Yb_IgM', '173Yb_HLA-DR', '174Yb_CD49d', '175Lu_CXCR4')"
   ]
  },
  {
   "cell_type": "markdown",
   "metadata": {},
   "source": [
    "#####################\n",
    "<h1><b>calculating EMD between fcs files for every marker</b></h1>\n",
    "\n",
    "####################"
   ]
  },
  {
   "cell_type": "code",
   "execution_count": null,
   "metadata": {
    "vscode": {
     "languageId": "r"
    }
   },
   "outputs": [],
   "source": [
    "emd_for_each_marker_for_two_fcs<- function(path_needed1, path_needed2, transform, sampling_number_emd, needed_antibody){\n",
    "        dataframe_res1<- fcs_to_dataframe(path_needed1, \n",
    "                        needed_antibody,\n",
    "                        transform)\n",
    "        dataframe_res2<- fcs_to_dataframe(path_needed2, \n",
    "                        needed_antibody,\n",
    "                        transform)\n",
    "        distances<- c()\n",
    "        for (column_needed in c(1:dim(dataframe_res2)[2])){\n",
    "            A<- sample(dataframe_res1[ ,column_needed], sampling_number_emd, replace = TRUE)\n",
    "            A<- matrix(A)\n",
    "            B<- sample(dataframe_res2[ ,column_needed], sampling_number_emd, replace = TRUE)\n",
    "            B<- matrix(B)\n",
    "            distance<- (suppressWarnings(emd2d(A,B,dist=\"euclidean\"))/sampling_number_emd)*100\n",
    "            distances<- append(distances, distance)\n",
    "        }\n",
    "        results<- data.frame(column_names = colnames(dataframe_res2), distance = distances)\n",
    "        return(results)\n",
    "}\n",
    "\n",
    "\n",
    "\n",
    "\n",
    "emd_for_each_marker_for_two_dataframe<- function(dataframe_res1, dataframe_res2, sampling_number_emd, needed_antibody){\n",
    "\n",
    "        distances<- c()\n",
    "        for (column_needed in c(1:dim(dataframe_res2)[2])){\n",
    "            A<- sample(dataframe_res1[ ,column_needed], sampling_number_emd, replace = TRUE)\n",
    "            A<- matrix(A)\n",
    "            B<- sample(dataframe_res2[ ,column_needed], sampling_number_emd, replace = TRUE)\n",
    "            B<- matrix(B)\n",
    "            distance<- (suppressWarnings(emd2d(A,B,dist=\"euclidean\"))/sampling_number_emd)*100\n",
    "            distances<- append(distances, distance)\n",
    "        }\n",
    "        results<- data.frame(column_names = colnames(dataframe_res2), distance = distances)\n",
    "        return(results)\n",
    "}"
   ]
  },
  {
   "cell_type": "code",
   "execution_count": null,
   "metadata": {
    "vscode": {
     "languageId": "r"
    }
   },
   "outputs": [],
   "source": [
    "histogram_of_each_column_for_three_dataframes<- function(dataframe1, dataframe2, dataframe3, title, xlab, bin, sampling_number, main_title){\n",
    "   #' given dataframe\n",
    "   #' given title name\n",
    "   #' given xlab value\n",
    "   #' give bin size\n",
    "   #' output histogram of all columns\n",
    " dataframe1 <- dataframe1[sample(nrow(dataframe1), sampling_number, replace = TRUE), ]\n",
    " dataframe2<- dataframe2[sample(nrow(dataframe2), sampling_number, replace = TRUE), ]\n",
    " dataframe3<- dataframe3[sample(nrow(dataframe3), sampling_number, replace = TRUE), ]\n",
    " p<- ggplot() + \n",
    "    geom_density(data = gather(dataframe1), aes(value), color='green', fill= 'green', adjust = 1.5, alpha = 0.1, lwd= 1.5)+ \n",
    "    facet_wrap(~key, scales ='free', ncol = 3)+\n",
    "    xlab(xlab)+\n",
    "    geom_density(data = gather(dataframe2), aes(value), color='red', fill= 'red', adjust = 1.5, alpha = 0.1, lwd= 1.5)+\n",
    "    facet_wrap(~key, scales = 'free', ncol = 3)+\n",
    "    xlab(xlab)+\n",
    "    geom_density(data = gather(dataframe3), aes(value), color='blue', fill= 'blue', adjust = 1.5, alpha = 0.1, lwd= 1.5)+\n",
    "    facet_wrap(~key, scales = 'free', ncol = 3)+\n",
    "    xlab(xlab)+\n",
    "    ylab(\"Frequency\")+\n",
    "    ggplot2::theme(plot.title = element_text( size=16, face=\"bold.italic\", hjust = 0.5),\n",
    "                   axis.text = ggplot2::element_text(face=\"bold\", colour=\"black\", size=12))+\n",
    "    ggtitle(main_title)\n",
    "  return(p)  \n",
    "}\n",
    "\n",
    "\n",
    "histogram_of_each_column_for_two_dataframes<- function(df1, df2, title, xlab, bin, sampling_number, main_title){\n",
    "   #' given dataframe\n",
    "   #' given title name\n",
    "   #' given xlab value\n",
    "   #' give bin size\n",
    "   #' output histogram of all columns\n",
    " dataframe1 <- df1[sample(nrow(df1), sampling_number, replace = TRUE), ]\n",
    " dataframe2<- df2[sample(nrow(df2), sampling_number, replace = TRUE), ]\n",
    " p<- ggplot() + \n",
    "    geom_density(data = gather(dataframe1), aes(value), color='green', fill= 'green', adjust = 1.5, alpha = 0.1, lwd= 1.5)+ \n",
    "    facet_wrap(~key, scales ='free', ncol = 3)+\n",
    "    xlab(xlab)+\n",
    "    geom_density(data = gather(dataframe2), aes(value), color='green', fill= 'blue', adjust = 1.5, alpha = 0.1, lwd= 1.5)+\n",
    "    facet_wrap(~key, scales = 'free', ncol = 3)+\n",
    "    xlab(xlab)+\n",
    "    ylab(\"Frequency\")+\n",
    "    ggplot2::theme(plot.title = element_text( size=16, face=\"bold.italic\", hjust = 0.5),\n",
    "                   axis.text = ggplot2::element_text(face=\"bold\", colour=\"black\", size=12))+\n",
    "    ggtitle(main_title)\n",
    "  return(p)  \n",
    "}\n",
    "\n",
    "\n",
    "tag_facet <- function(p, open = \"(\", close = \")\", tag_pool = letters, x = -Inf, y = Inf, \n",
    "                      hjust = -0.5, vjust = 1.5, fontface = 2, family = \"\", colour, ...) {\n",
    "  \n",
    "  gb <- ggplot_build(p)\n",
    "  lay <- gb$layout$layout\n",
    "  tags <- cbind(lay, label = paste0(open, tag_pool[lay$PANEL], close), x = x, y = y)\n",
    "  p + \n",
    "    geom_text(data = tags, aes_string(x = \"x\", y = \"y\", label = \"label\"),colour=colour, ..., hjust = hjust, \n",
    "                vjust = vjust, fontface = fontface, family = family, inherit.aes = FALSE)+\n",
    "    scale_colour_manual(values= colour)  \n",
    "}"
   ]
  },
  {
   "cell_type": "code",
   "execution_count": null,
   "metadata": {
    "vscode": {
     "languageId": "r"
    }
   },
   "outputs": [],
   "source": [
    "####use above functions"
   ]
  },
  {
   "cell_type": "code",
   "execution_count": null,
   "metadata": {
    "vscode": {
     "languageId": "r"
    }
   },
   "outputs": [],
   "source": [
    "needed_antibody1<- c('141Pr_CD196','142Nd_CD19', '143Nd_CD5',  '144Nd_CD38', '146Nd_IgD','147Sm_CD11c',\n",
    "                   '150Nd_CD43', '151Eu_CD69', '152Sm_CD21', '153Eu_CXCR5', '154Sm_CD62L', '158Gd_CD27',\n",
    "                     '159Tb_CD22', '163Dy_CXCR3', '164Dy_CD23', '166Er_CD24', '167Er_CCR7',  '171Yb_CD20',\n",
    "                    '172Yb_IgM', '173Yb_HLA-DR', '174Yb_CD49d', '175Lu_CXCR4')"
   ]
  },
  {
   "cell_type": "code",
   "execution_count": null,
   "metadata": {
    "vscode": {
     "languageId": "r"
    }
   },
   "outputs": [],
   "source": [
    "needed_antibody2<- c('141Pr_CD196','142Nd_CD19', '144Nd_CD38', \n",
    "                   '152Sm_CD21', '153Eu_CXCR5', '154Sm_CD62L')\n"
   ]
  },
  {
   "cell_type": "code",
   "execution_count": null,
   "metadata": {
    "vscode": {
     "languageId": "r"
    }
   },
   "outputs": [],
   "source": [
    "###parameters\n",
    "numberofcellsusedforplot <- 1500\n",
    "need <- needed_antibody2\n",
    "batch1 <- \"1st\" \n",
    "batch2 <- \"2nd\"\n",
    "samplenumber = \"3620\"\n",
    "Dpath = \"D:/AAAAAA_PhD_data/\""
   ]
  },
  {
   "cell_type": "code",
   "execution_count": null,
   "metadata": {
    "vscode": {
     "languageId": "r"
    }
   },
   "outputs": [],
   "source": [
    "#######"
   ]
  },
  {
   "cell_type": "code",
   "execution_count": null,
   "metadata": {
    "vscode": {
     "languageId": "r"
    }
   },
   "outputs": [],
   "source": [
    "path_needed1<- output_path(samplenumber, glue(\"{Dpath}Data/experiment_UMvsM/\"), batch1)\n",
    "path_needed2<- output_path(samplenumber, glue(\"{Dpath}Data/experiment_UMvsM/\"), batch2)\n",
    "#path_needed3<- \"D:/AAAAAA_PhD_data/Data/all_cytonorm_normalized/Batch_6_19nonanchor1.fcs\"\n",
    "\n",
    "\n",
    "filetocode = read.csv(\".././R3_ML_mut_vs_unmut_scripts/filenametocode.csv\")\n",
    "filetocode <- data.frame(filetocode)\n",
    "rows_with_value <- filetocode[filetocode$name == samplenumber, ]\n",
    "rows_with_value <- rows_with_value$code\n",
    "#string_needed1 <- rows_with_value[grep(paste0(\"^Batch_\", substr(batch1, 1, 1)), rows_with_value)]\n",
    "string_needed2 <- rows_with_value[grep(paste0(\"^Batch_\", substr(batch2, 1, 1)), rows_with_value)]\n",
    "\n",
    "path_needed3 <- paste0(glue(\"{Dpath}Data/all_cytonorm_normalized/\"), string_needed2)"
   ]
  },
  {
   "cell_type": "code",
   "execution_count": null,
   "metadata": {
    "vscode": {
     "languageId": "r"
    }
   },
   "outputs": [],
   "source": [
    "dataframe_res1<- fcs_to_dataframe(path_needed1, \n",
    "                need,\n",
    "                FALSE)\n",
    "dataframe_res2<- fcs_to_dataframe(path_needed2, \n",
    "                need,\n",
    "                FALSE)\n",
    "dataframe_res3<- fcs_to_dataframe(path_needed3, \n",
    "                need,\n",
    "                FALSE)"
   ]
  },
  {
   "cell_type": "code",
   "execution_count": null,
   "metadata": {
    "vscode": {
     "languageId": "r"
    }
   },
   "outputs": [],
   "source": [
    "ans1<- emd_for_each_marker_for_two_fcs(path_needed1, path_needed2, TRUE, numberofcellsusedforplot, need)\n",
    "ans2<- emd_for_each_marker_for_two_fcs(path_needed1, path_needed3, TRUE, numberofcellsusedforplot, need)"
   ]
  },
  {
   "cell_type": "code",
   "execution_count": null,
   "metadata": {
    "vscode": {
     "languageId": "r"
    }
   },
   "outputs": [],
   "source": [
    "sum(ans1$distance - ans2$distance)/sum(ans1$distance)*100"
   ]
  },
  {
   "cell_type": "code",
   "execution_count": null,
   "metadata": {
    "vscode": {
     "languageId": "r"
    }
   },
   "outputs": [],
   "source": [
    "main_title<- glue(\"Overlaid histograms of sampled cells for sample {samplenumber} from batch {substr(batch1, 1, 1)} (green), \\n batch {substr(batch2, 1, 1)} before correction (red), and after correction (blue)\\n by ML-based method\\n\\n\")"
   ]
  },
  {
   "cell_type": "code",
   "execution_count": null,
   "metadata": {
    "vscode": {
     "languageId": "r"
    }
   },
   "outputs": [],
   "source": [
    "p<- histogram_of_each_column_for_three_dataframes(dataframe_res1, dataframe_res2, dataframe_res3, paste0(basename(path_needed) , \" normalized\"), \"markers expression\", 100, 2000, main_title) ###for scaled dataframe"
   ]
  },
  {
   "cell_type": "code",
   "execution_count": null,
   "metadata": {
    "vscode": {
     "languageId": "r"
    }
   },
   "outputs": [],
   "source": [
    "p<- tag_facet(p, \n",
    "              open = \"emd \",\n",
    "          tag_pool = round(ans1$distance, digit = 3),\n",
    "             colour = \"red\",\n",
    "              fontface = 4)\n",
    "p<- tag_facet(p, x = Inf, y = Inf, \n",
    "          hjust = 1.5,\n",
    "          open = \"emd \",\n",
    "          tag_pool = round(ans2$distance, digit = 3),\n",
    "             colour = \"blue\",\n",
    "              fontface = 4)"
   ]
  },
  {
   "cell_type": "code",
   "execution_count": null,
   "metadata": {
    "vscode": {
     "languageId": "r"
    }
   },
   "outputs": [],
   "source": [
    "p"
   ]
  },
  {
   "cell_type": "code",
   "execution_count": null,
   "metadata": {
    "vscode": {
     "languageId": "r"
    }
   },
   "outputs": [],
   "source": []
  }
 ],
 "metadata": {
  "kernelspec": {
   "display_name": "R",
   "language": "R",
   "name": "ir"
  },
  "language_info": {
   "codemirror_mode": "r",
   "file_extension": ".r",
   "mimetype": "text/x-r-source",
   "name": "R",
   "pygments_lexer": "r",
   "version": "3.6.1"
  }
 },
 "nbformat": 4,
 "nbformat_minor": 2
}
