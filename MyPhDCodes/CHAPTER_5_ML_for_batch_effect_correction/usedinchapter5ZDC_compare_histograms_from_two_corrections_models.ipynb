{
 "cells": [
  {
   "cell_type": "markdown",
   "metadata": {},
   "source": [
    "# This notebook is used to compare the same sample (from the batch to be corrected) before and after correction, which is corrected by the same sample (from another batch used for correction).  "
   ]
  },
  {
   "cell_type": "code",
   "execution_count": null,
   "metadata": {},
   "outputs": [],
   "source": [
    "source(\"mass_cytometry_functions.R\")\n",
    "library(caret)\n",
    "library(emdist)\n",
    "library(egg)\n",
    "library(glue)"
   ]
  },
  {
   "cell_type": "code",
   "execution_count": null,
   "metadata": {},
   "outputs": [],
   "source": [
    "emd_for_each_marker_for_two_fcs<- function(path_needed1, path_needed2, transform, sampling_number_emd, needed_antibody){\n",
    "        dataframe_res1<- fcs_to_dataframe(path_needed1, \n",
    "                        needed_antibody,\n",
    "                        transform)\n",
    "        dataframe_res2<- fcs_to_dataframe(path_needed2, \n",
    "                        needed_antibody,\n",
    "                        transform)\n",
    "        distances<- c()\n",
    "        for (column_needed in c(1:dim(dataframe_res2)[2])){\n",
    "            A<- sample(dataframe_res1[ ,column_needed], sampling_number_emd, replace = TRUE)\n",
    "            A<- matrix(A)\n",
    "            B<- sample(dataframe_res2[ ,column_needed], sampling_number_emd, replace = TRUE)\n",
    "            B<- matrix(B)\n",
    "            distance<- (suppressWarnings(emd2d(A,B,dist=\"euclidean\"))/sampling_number_emd)*100\n",
    "            distances<- append(distances, distance)\n",
    "        }\n",
    "        results<- data.frame(column_names = colnames(dataframe_res2), distance = distances)\n",
    "        return(results)\n",
    "}\n",
    "\n",
    "\n",
    "\n",
    "\n",
    "emd_for_each_marker_for_two_dataframe<- function(dataframe_res1, dataframe_res2, sampling_number_emd, needed_antibody){\n",
    "\n",
    "        distances<- c()\n",
    "        for (column_needed in c(1:dim(dataframe_res2)[2])){\n",
    "            A<- sample(dataframe_res1[ ,column_needed], sampling_number_emd, replace = TRUE)\n",
    "            A<- matrix(A)\n",
    "            B<- sample(dataframe_res2[ ,column_needed], sampling_number_emd, replace = TRUE)\n",
    "            B<- matrix(B)\n",
    "            distance<- (suppressWarnings(emd2d(A,B,dist=\"euclidean\"))/sampling_number_emd)*100\n",
    "            distances<- append(distances, distance)\n",
    "        }\n",
    "        results<- data.frame(column_names = colnames(dataframe_res2), distance = distances)\n",
    "        return(results)\n",
    "}\n",
    "\n",
    "\n",
    "\n",
    "histogram_of_each_column_for_three_dataframes<- function(dataframe1, dataframe2, dataframe3, title, xlab, bin, sampling_number, main_title){\n",
    "   #' given dataframe\n",
    "   #' given title name\n",
    "   #' given xlab value\n",
    "   #' give bin size\n",
    "   #' output histogram of all columns\n",
    " dataframe1 <- dataframe1[sample(nrow(dataframe1), sampling_number, replace = TRUE), ]\n",
    " dataframe2<- dataframe2[sample(nrow(dataframe2), sampling_number, replace = TRUE), ]\n",
    " dataframe3<- dataframe3[sample(nrow(dataframe3), sampling_number, replace = TRUE), ]\n",
    " p<- ggplot() + \n",
    "    geom_density(data = gather(dataframe1), aes(value), color='green', fill= 'green', adjust = 1.5, alpha = 0.1, lwd= 1.5)+ \n",
    "    facet_wrap(~key, scales ='free', ncol = 4)+\n",
    "    xlab(xlab)+\n",
    "    geom_density(data = gather(dataframe2), aes(value), color='red', fill= 'red', adjust = 1.5, alpha = 0.1, lwd= 1.5)+\n",
    "    facet_wrap(~key, scales = 'free', ncol = 4)+\n",
    "    xlab(xlab)+\n",
    "    geom_density(data = gather(dataframe3), aes(value), color='blue', fill= 'blue', adjust = 1.5, alpha = 0.1, lwd= 1.5)+\n",
    "    facet_wrap(~key, scales = 'free', ncol = 4)+\n",
    "    xlab(xlab)+\n",
    "    ylab(\"Frequency\")+\n",
    "    ggplot2::theme(plot.title = element_text( size=16, face=\"bold.italic\", hjust = 0.5),\n",
    "                   axis.text = ggplot2::element_text(face=\"bold\", colour=\"black\", size=12))+\n",
    "    ggtitle(main_title)\n",
    "  return(p)  \n",
    "}\n",
    "\n",
    "\n",
    "histogram_of_each_column_for_two_dataframes<- function(df1, df2, title, xlab, bin, sampling_number, main_title){\n",
    "   #' given dataframe\n",
    "   #' given title name\n",
    "   #' given xlab value\n",
    "   #' give bin size\n",
    "   #' output histogram of all columns\n",
    " dataframe1 <- df1[sample(nrow(df1), sampling_number, replace = TRUE), ]\n",
    " dataframe2<- df2[sample(nrow(df2), sampling_number, replace = TRUE), ]\n",
    " p<- ggplot() + \n",
    "    geom_density(data = gather(dataframe1), aes(value), color='green', fill= 'green', adjust = 1.5, alpha = 0.1, lwd= 1.5)+ \n",
    "    facet_wrap(~key, scales ='free', ncol = 4)+\n",
    "    xlab(xlab)+\n",
    "    geom_density(data = gather(dataframe2), aes(value), color='blue', fill= 'blue', adjust = 1.5, alpha = 0.1, lwd= 1.5)+\n",
    "    facet_wrap(~key, scales = 'free', ncol = 4)+\n",
    "    xlab(xlab)+\n",
    "    ylab(\"Frequency\")+\n",
    "    ggplot2::theme(plot.title = element_text( size=16, face=\"bold.italic\", hjust = 0.5),\n",
    "                   axis.text = ggplot2::element_text(face=\"bold\", colour=\"black\", size=12))+\n",
    "    ggtitle(main_title)+\n",
    "    ggplot2::theme(panel.background = element_rect(fill = \"#BFD5E3\"))\n",
    "  return(p)  \n",
    "}\n",
    "\n",
    "\n",
    "tag_facet <- function(p, open = \"(\", close = \")\", tag_pool = letters, x = -Inf, y = Inf, \n",
    "                      hjust = -0.5, vjust = 1.5, fontface = 2, family = \"\", colour, ...) {\n",
    "  \n",
    "  gb <- ggplot_build(p)\n",
    "  lay <- gb$layout$layout\n",
    "  tags <- cbind(lay, label = paste0(open, tag_pool[lay$PANEL], close), x = x, y = y)\n",
    "  p + \n",
    "    geom_text(data = tags, aes_string(x = \"x\", y = \"y\", label = \"label\"), colour=colour, ..., hjust = hjust, \n",
    "                vjust = vjust, fontface = fontface, family = family, inherit.aes = FALSE)+\n",
    "    scale_colour_manual(values= colour)+\n",
    "    ggplot2::theme(panel.background = ggplot2::element_rect(fill = \"white\", colour = \"black\")) +\n",
    "      ggplot2::theme(axis.title.x = ggplot2::element_text(face = \"bold\", colour = \"black\", size = 20)) +\n",
    "      ggplot2::theme(axis.text = ggplot2::element_text(face = \"bold\", colour = \"black\", size = 20)) +\n",
    "      ggplot2::theme(axis.title.y = ggplot2::element_text(face = \"bold\", colour = \"black\", size = 20)) +\n",
    "      ggplot2::theme(panel.border = ggplot2::element_rect(colour = \"black\", fill = NA, size = 1))+\n",
    "    ggplot2::theme(plot.title = element_text(size = 20))+\n",
    "    ggplot2::theme(text = element_text(size = 20))\n",
    "}"
   ]
  },
  {
   "cell_type": "code",
   "execution_count": null,
   "metadata": {},
   "outputs": [],
   "source": [
    "needed_antibody<- c('141Pr_CD196','142Nd_CD19', '143Nd_CD5',  '144Nd_CD38', '146Nd_IgD','147Sm_CD11c', '148Nd_CD16',\n",
    "                    '149Sm_CCR4', '150Nd_CD43', '151Eu_CD69', '152Sm_CD21', '153Eu_CXCR5', '154Sm_CD62L', '158Gd_CD27',\n",
    "                     '159Tb_CD22', '160Gd_CD14', '163Dy_CXCR3', '164Dy_CD23', '166Er_CD24', '167Er_CCR7',  '171Yb_CD20',\n",
    "                    '172Yb_IgM', '173Yb_HLA-DR', '174Yb_CD49d', '175Lu_CXCR4', '176Yb_CD56')\n",
    "needed_antibody1<- c('141Pr_CD196','142Nd_CD19', '143Nd_CD5',  '144Nd_CD38', '146Nd_IgD','147Sm_CD11c', '150Nd_CD43', '151Eu_CD69', '152Sm_CD21', '153Eu_CXCR5', '154Sm_CD62L', '158Gd_CD27',\n",
    "                     '159Tb_CD22',  '163Dy_CXCR3', '164Dy_CD23', '166Er_CD24', '167Er_CCR7',  '171Yb_CD20',\n",
    "                    '172Yb_IgM', '173Yb_HLA-DR', '174Yb_CD49d', '175Lu_CXCR4')"
   ]
  },
  {
   "cell_type": "code",
   "execution_count": null,
   "metadata": {},
   "outputs": [],
   "source": [
    "need = needed_antibody1"
   ]
  },
  {
   "cell_type": "code",
   "execution_count": null,
   "metadata": {},
   "outputs": [],
   "source": [
    "path = \"D:/AAAAAA_PhD_data/\"\n",
    "batch <- 6\n",
    "anchor <- \"anchorstim\"\n",
    "nonanchor <- \"nonanchor_vali\""
   ]
  },
  {
   "cell_type": "code",
   "execution_count": null,
   "metadata": {},
   "outputs": [],
   "source": [
    "##compare anchors of different batches\n",
    "# rans1<- data.frame()\n",
    "# for (i in c(2,3,5,6)){\n",
    "path_needed1<- glue(\"{path}Data/cytofruv_normalized_one_batch_at_a_time/Batch_{batch}_1_{anchor}.fcs\")\n",
    "path_needed2<- glue(\"{path}Data/cytofruv_normalized_one_batch_at_a_time/Batch_{batch}_{batch}_{anchor}.fcs\")\n",
    "# dataframe_res1<- fcs_to_dataframe(path_needed1, \n",
    "#                 need,\n",
    "#                 FALSE)\n",
    "# dataframe_res2<- fcs_to_dataframe(path_needed2, \n",
    "#                 need,\n",
    "#                 FALSE)\n",
    "# ans1<- emd_for_each_marker_for_two_fcs(path_needed1, path_needed2, TRUE, 1000, need)\n",
    "# rans1<- rbind(rans1, ans1)\n",
    "#     }"
   ]
  },
  {
   "cell_type": "code",
   "execution_count": null,
   "metadata": {},
   "outputs": [],
   "source": [
    "dataframe_res1<- fcs_to_dataframe(path_needed1, \n",
    "                need,\n",
    "                FALSE)\n",
    "dataframe_res2<- fcs_to_dataframe(path_needed2, \n",
    "                need,\n",
    "                FALSE)"
   ]
  },
  {
   "cell_type": "code",
   "execution_count": null,
   "metadata": {},
   "outputs": [],
   "source": [
    "head(dataframe_res1)"
   ]
  },
  {
   "cell_type": "code",
   "execution_count": null,
   "metadata": {},
   "outputs": [],
   "source": [
    "ans1<- emd_for_each_marker_for_two_fcs(path_needed1, path_needed2, TRUE, 500, need)"
   ]
  },
  {
   "cell_type": "code",
   "execution_count": null,
   "metadata": {},
   "outputs": [],
   "source": [
    "ans1"
   ]
  },
  {
   "cell_type": "code",
   "execution_count": null,
   "metadata": {},
   "outputs": [],
   "source": [
    "#####get the difference before and after correction for a method1 \n",
    "####get the difference before and after correction for another method2"
   ]
  },
  {
   "cell_type": "code",
   "execution_count": null,
   "metadata": {},
   "outputs": [],
   "source": [
    "path = \"D:/AAAAAA_PhD_data/\"\n",
    "batch <- 2\n",
    "anchor <- \"anchorstim\"\n",
    "nonanchor <- \"nonanchor_vali\"\n",
    "samplename <- 3640"
   ]
  },
  {
   "cell_type": "code",
   "execution_count": null,
   "metadata": {},
   "outputs": [],
   "source": [
    "append_suffix <- function(number) {\n",
    "  last_digit <- number %% 10\n",
    "  suffix <- switch(last_digit,\n",
    "                   \"1\" = \"st\",\n",
    "                   \"2\" = \"nd\",\n",
    "                   \"3\" = \"rd\",\n",
    "                   \"th\")\n",
    "  if (last_digit >= 4 | last_digit == 0) {\n",
    "    suffix <- \"th\"\n",
    "  }\n",
    "  return(paste0(number, suffix))\n",
    "}"
   ]
  },
  {
   "cell_type": "code",
   "execution_count": null,
   "metadata": {},
   "outputs": [],
   "source": [
    "### this is before correction example both\n",
    "path_needed1<- output_path(samplename, glue(\"{path}Data/experiment_UMvsM/\"), \"1st\")\n",
    "path_needed2<- output_path(samplename, glue(\"{path}Data/experiment_UMvsM/\"), glue(\"{append_suffix(batch)}\"))"
   ]
  },
  {
   "cell_type": "code",
   "execution_count": null,
   "metadata": {},
   "outputs": [],
   "source": [
    "##this is for after correction example for cytofruv\n",
    "path_needed3<- glue(\"{path}Data/cytofruv_normalized_one_batch_at_a_time/Batch_{batch}_1_{anchor}.fcs\")\n",
    "path_needed4<- glue(\"{path}Data/cytofruv_normalized_one_batch_at_a_time/Batch_{batch}_{batch}_{anchor}.fcs\")"
   ]
  },
  {
   "cell_type": "code",
   "execution_count": null,
   "metadata": {},
   "outputs": [],
   "source": [
    "##this is for after correction example for cytonorm\n",
    "filenametocode <- file.path(\"..\", \"R3_ML_mut_vs_unmut_scripts\", \"filenametocode.csv\")\n",
    "filenametocodedata <- read.csv(filenametocode)\n",
    "samplenamerows <- filenametocodedata[filenametocodedata$name == samplename, ]\n",
    "batchelement <- samplenamerows$code[grep(glue(\"Batch_{batch}\"), samplenamerows$code)]\n",
    "path_needed5<- output_path(samplename, glue(\"{path}Data/experiment_UMvsM/\"), \"1st\")\n",
    "path_needed6<- glue(\"{path}Data/all_cytonorm_normalized/{batchelement}\")"
   ]
  },
  {
   "cell_type": "code",
   "execution_count": null,
   "metadata": {},
   "outputs": [],
   "source": [
    "dataframe_res1<- fcs_to_dataframe(path_needed1, \n",
    "                need,\n",
    "                FALSE)\n",
    "dataframe_res2<- fcs_to_dataframe(path_needed2, \n",
    "                need,\n",
    "                FALSE)\n",
    "dataframe_res3<- fcs_to_dataframe(path_needed3, \n",
    "                need,\n",
    "                FALSE)\n",
    "dataframe_res4<- fcs_to_dataframe(path_needed4, \n",
    "                need,\n",
    "                FALSE)\n",
    "dataframe_res5<- fcs_to_dataframe(path_needed5, \n",
    "                need,\n",
    "                FALSE)\n",
    "dataframe_res6<- fcs_to_dataframe(path_needed6, \n",
    "                need,\n",
    "                FALSE)"
   ]
  },
  {
   "cell_type": "code",
   "execution_count": null,
   "metadata": {},
   "outputs": [],
   "source": [
    "ans1<- emd_for_each_marker_for_two_fcs(path_needed1, path_needed2, TRUE, 500, need)\n",
    "ans2_method1<- emd_for_each_marker_for_two_fcs(path_needed3, path_needed4, TRUE, 500, need)   ##cytofruv\n",
    "ans3_method2<- emd_for_each_marker_for_two_fcs(path_needed5, path_needed6, TRUE, 500, need)   ##cytonorm"
   ]
  },
  {
   "cell_type": "code",
   "execution_count": null,
   "metadata": {},
   "outputs": [],
   "source": [
    "ans3_method2"
   ]
  },
  {
   "cell_type": "code",
   "execution_count": null,
   "metadata": {},
   "outputs": [],
   "source": [
    "ans1"
   ]
  },
  {
   "cell_type": "code",
   "execution_count": null,
   "metadata": {},
   "outputs": [],
   "source": [
    "t_test_result <- t.test(ans3_method2$distance, ans2_method1$distance, paired=TRUE)\n",
    "\n",
    "# Print the result\n",
    "print(t_test_result)\n",
    "######mean difference means (ans2_method1$distance - ans3_method2$distance)"
   ]
  },
  {
   "cell_type": "code",
   "execution_count": null,
   "metadata": {},
   "outputs": [],
   "source": [
    "#######################################################################\n",
    "######################################################################"
   ]
  },
  {
   "cell_type": "code",
   "execution_count": null,
   "metadata": {},
   "outputs": [],
   "source": [
    "technique<- \"CytofRUV\"\n",
    "sample_number<- glue(\"{samplename} (Validation)\")\n",
    "first_batch<- \"one\"\n",
    "second_batch<- glue(\"{batch}\")\n",
    "\n",
    "main_title<- paste0(\n",
    "                    \"Overlaid Density Plots of sample \",\n",
    "                    sample_number,\n",
    "                    \" from batch \",\n",
    "                    first_batch,\n",
    "                    \" (green) \",\n",
    "                  \n",
    "                    \"and batch \",\n",
    "                    second_batch,\n",
    "                    \" (blue) \",\n",
    "                    \" after \",\n",
    "                     technique,\n",
    "                     \"-correction\"\n",
    "                    )\n",
    "p<- histogram_of_each_column_for_two_dataframes(dataframe_res3, dataframe_res4, \"markers expression\", \"markers expressions\", 100, 2000, main_title) ###for scaled dataframe  \n",
    "\n",
    "p<- tag_facet(p, \n",
    "              open = \"emd \",\n",
    "              close = \" \",\n",
    "          tag_pool = round(ans1$distance, digit = 3),\n",
    "             colour = \"blue\",\n",
    "             hjust = -4.0, vjust = 2.5,\n",
    "             fontface = 20)\n",
    "\n",
    "options(repr.plot.width=20, repr.plot.height=15)\n",
    "\n"
   ]
  },
  {
   "cell_type": "code",
   "execution_count": null,
   "metadata": {},
   "outputs": [],
   "source": [
    "p"
   ]
  },
  {
   "cell_type": "code",
   "execution_count": null,
   "metadata": {},
   "outputs": [],
   "source": [
    "technique<- \"ML\"\n",
    "sample_number<- glue(\"{samplename} (Validation)\")\n",
    "first_batch<- \"one\"\n",
    "second_batch<- glue(\"{batch}\")\n",
    "\n",
    "main_title<- paste0(\n",
    "                    \"Overlaid Density Plots of sample \",\n",
    "                    sample_number,\n",
    "                    \" from batch \",\n",
    "                    first_batch,\n",
    "                    \" (green) \",\n",
    "                  \n",
    "                    \"and batch \",\n",
    "                    second_batch,\n",
    "                    \" (blue) \",\n",
    "                    \" after \",\n",
    "                     technique,\n",
    "                     \"-correction\"\n",
    "                    )\n",
    "p<- histogram_of_each_column_for_two_dataframes(dataframe_res5, dataframe_res6, \"markers expression\", \"markers expressions\", 100, 2000, main_title) ###for scaled dataframe  \n",
    "\n",
    "p<- tag_facet(p, \n",
    "              open = \"emd \",\n",
    "              close = \" \",\n",
    "          tag_pool = round(ans1$distance, digit = 3),\n",
    "             colour = \"blue\",\n",
    "             hjust = -4.0, vjust = 2.5,\n",
    "             fontface = 20)\n",
    "\n",
    "options(repr.plot.width=20, repr.plot.height=15)\n",
    "\n"
   ]
  },
  {
   "cell_type": "code",
   "execution_count": null,
   "metadata": {},
   "outputs": [],
   "source": [
    "p"
   ]
  },
  {
   "cell_type": "code",
   "execution_count": null,
   "metadata": {},
   "outputs": [],
   "source": [
    "#########################\n",
    "########################\n",
    "########################\n",
    "########################"
   ]
  },
  {
   "cell_type": "code",
   "execution_count": null,
   "metadata": {},
   "outputs": [],
   "source": []
  },
  {
   "cell_type": "code",
   "execution_count": null,
   "metadata": {},
   "outputs": [],
   "source": []
  },
  {
   "cell_type": "code",
   "execution_count": null,
   "metadata": {},
   "outputs": [],
   "source": []
  },
  {
   "cell_type": "code",
   "execution_count": null,
   "metadata": {},
   "outputs": [],
   "source": []
  },
  {
   "cell_type": "code",
   "execution_count": null,
   "metadata": {},
   "outputs": [],
   "source": []
  },
  {
   "cell_type": "code",
   "execution_count": null,
   "metadata": {},
   "outputs": [],
   "source": []
  },
  {
   "cell_type": "code",
   "execution_count": null,
   "metadata": {},
   "outputs": [],
   "source": []
  },
  {
   "cell_type": "code",
   "execution_count": null,
   "metadata": {},
   "outputs": [],
   "source": [
    "#############"
   ]
  },
  {
   "cell_type": "code",
   "execution_count": null,
   "metadata": {},
   "outputs": [],
   "source": [
    "path_needed1<- output_path(\"3620\", glue(\"{path}Data/experiment_UMvsM/\"), \"1st\")\n",
    "path_needed2<- output_path(\"3620\", glue(\"{path}Data/experiment_UMvsM/\"), \"6th\")\n",
    "path_needed3<- glue(\"{path}Data/all_cytonorm_normalized/Batch_6_19nonanchor1.fcs\")"
   ]
  },
  {
   "cell_type": "code",
   "execution_count": null,
   "metadata": {},
   "outputs": [],
   "source": [
    "dataframe_res1<- fcs_to_dataframe(path_needed1, \n",
    "                need,\n",
    "                FALSE)\n",
    "dataframe_res2<- fcs_to_dataframe(path_needed2, \n",
    "                need,\n",
    "                FALSE)\n",
    "dataframe_res3<- fcs_to_dataframe(path_needed3, \n",
    "                need,\n",
    "                FALSE)\n"
   ]
  },
  {
   "cell_type": "code",
   "execution_count": null,
   "metadata": {},
   "outputs": [],
   "source": [
    "cyto_ans1<- emd_for_each_marker_for_two_fcs(path_needed1, path_needed2, TRUE, 1500, need)\n",
    "#cyto_ans2<- emd_for_each_marker_for_two_fcs(path_needed1, path_needed3, TRUE, 1500, need)"
   ]
  },
  {
   "cell_type": "code",
   "execution_count": null,
   "metadata": {},
   "outputs": [],
   "source": [
    "cyto_ans1"
   ]
  },
  {
   "cell_type": "code",
   "execution_count": null,
   "metadata": {},
   "outputs": [],
   "source": [
    "technique<- \"ML-based\"\n",
    "sample_number<- \"3620\"\n",
    "first_batch<- \"one\"\n",
    "second_batch<- \"six\"\n",
    "\n",
    "main_title<- paste0(\n",
    "                    \"Overlaid histograms of sample \\n \",\n",
    "                    sample_number,\n",
    "                    \" from batch \",\n",
    "                    first_batch,\n",
    "                    \" (green) \",\n",
    "                  \n",
    "                    \"and batch \",\n",
    "                    second_batch,\n",
    "                      \"\\n \",\n",
    "                     \"before (red) and after (blue) \\n\",\n",
    "                      technique,\n",
    "                     \"-correction\"\n",
    "                    )\n",
    "main_title <- glue(\"Overlaid Density Plots of sample {sample_number} from batch {first_batch} (green) and batch {second_batch} (blue) after ML based correction\")                "
   ]
  },
  {
   "cell_type": "markdown",
   "metadata": {},
   "source": [
    "# 2 histogram first"
   ]
  },
  {
   "cell_type": "code",
   "execution_count": null,
   "metadata": {},
   "outputs": [],
   "source": [
    "p<- histogram_of_each_column_for_two_dataframes(dataframe_res1, dataframe_res2, \"markers expression\", \"markers expressions\", 100, 2000, main_title) ###for scaled dataframe"
   ]
  },
  {
   "cell_type": "code",
   "execution_count": null,
   "metadata": {},
   "outputs": [],
   "source": [
    "p<- tag_facet(p, \n",
    "              open = \"emd \",\n",
    "          tag_pool = round(cyto_ans1$distance, digit = 3),\n",
    "             colour = \"blue\",\n",
    "             hjust = -4.0, vjust = 2.5,\n",
    "             fontface = 4)"
   ]
  },
  {
   "cell_type": "code",
   "execution_count": null,
   "metadata": {},
   "outputs": [],
   "source": [
    "options(repr.plot.width=20, repr.plot.height=20)"
   ]
  },
  {
   "cell_type": "code",
   "execution_count": null,
   "metadata": {},
   "outputs": [],
   "source": [
    "p"
   ]
  },
  {
   "cell_type": "code",
   "execution_count": null,
   "metadata": {},
   "outputs": [],
   "source": []
  },
  {
   "cell_type": "code",
   "execution_count": null,
   "metadata": {},
   "outputs": [],
   "source": []
  },
  {
   "cell_type": "code",
   "execution_count": null,
   "metadata": {},
   "outputs": [],
   "source": []
  },
  {
   "cell_type": "code",
   "execution_count": null,
   "metadata": {},
   "outputs": [],
   "source": []
  },
  {
   "cell_type": "code",
   "execution_count": null,
   "metadata": {},
   "outputs": [],
   "source": [
    "p<- histogram_of_each_column_for_three_dataframes(dataframe_res1, dataframe_res2,dataframe_res3, \"markers expression\", \"markers expressions\", 100, 2000, main_title) ###for scaled dataframe"
   ]
  },
  {
   "cell_type": "code",
   "execution_count": null,
   "metadata": {},
   "outputs": [],
   "source": [
    "p<- tag_facet(p, \n",
    "              open = \"emd \",\n",
    "          tag_pool = round(ans2$distance, digit = 3),\n",
    "             colour = \"blue\",\n",
    "             hjust = -4.5, vjust = 2.5,\n",
    "             fontface = 4)\n",
    "p<- tag_facet(p, \n",
    "              open = \"emd \",\n",
    "          tag_pool = round(ans1$distance, digit = 3),\n",
    "             colour = \"red\",\n",
    "             hjust = -2.5, vjust = 2.5,\n",
    "             fontface = 4)"
   ]
  },
  {
   "cell_type": "code",
   "execution_count": null,
   "metadata": {},
   "outputs": [],
   "source": [
    "options(repr.plot.width=20, repr.plot.height=20)"
   ]
  },
  {
   "cell_type": "code",
   "execution_count": null,
   "metadata": {},
   "outputs": [],
   "source": [
    "p"
   ]
  },
  {
   "cell_type": "code",
   "execution_count": null,
   "metadata": {},
   "outputs": [],
   "source": []
  }
 ],
 "metadata": {
  "kernelspec": {
   "display_name": "R",
   "language": "R",
   "name": "ir"
  },
  "language_info": {
   "codemirror_mode": "r",
   "file_extension": ".r",
   "mimetype": "text/x-r-source",
   "name": "R",
   "pygments_lexer": "r",
   "version": "3.6.1"
  }
 },
 "nbformat": 4,
 "nbformat_minor": 2
}
